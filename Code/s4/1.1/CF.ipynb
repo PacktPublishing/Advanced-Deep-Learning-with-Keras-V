{
 "cells": [
  {
   "cell_type": "markdown",
   "metadata": {},
   "source": [
    "# Collaborative Filtering vs Content based items vs hybrid systems\n"
   ]
  },
  {
   "cell_type": "code",
   "execution_count": 1,
   "metadata": {
    "collapsed": true
   },
   "outputs": [],
   "source": [
    "%matplotlib inline\n",
    "import matplotlib.pyplot as plt\n",
    "import numpy as np\n",
    "import os.path as op\n",
    "\n",
    "from zipfile import ZipFile\n",
    "try:\n",
    "    from urllib.request import urlretrieve\n",
    "except ImportError:  # Python 2 compat\n",
    "    from urllib import urlretrieve\n",
    "\n",
    "\n",
    "ML_100K_URL = \"http://files.grouplens.org/datasets/movielens/ml-100k.zip\"\n",
    "ML_100K_FILENAME = ML_100K_URL.rsplit('/', 1)[1]\n",
    "ML_100K_FOLDER = 'ml-100k'\n",
    "\n",
    "if not op.exists(ML_100K_FILENAME):\n",
    "    print('Downloading %s to %s...' % (ML_100K_URL, ML_100K_FILENAME))\n",
    "    urlretrieve(ML_100K_URL, ML_100K_FILENAME)\n",
    "\n",
    "if not op.exists(ML_100K_FOLDER):\n",
    "    print('Extracting %s to %s...' % (ML_100K_FILENAME, ML_100K_FOLDER))\n",
    "    ZipFile(ML_100K_FILENAME).extractall('.')"
   ]
  },
  {
   "cell_type": "code",
   "execution_count": 2,
   "metadata": {},
   "outputs": [
    {
     "data": {
      "text/html": [
       "<div>\n",
       "<table border=\"1\" class=\"dataframe\">\n",
       "  <thead>\n",
       "    <tr style=\"text-align: right;\">\n",
       "      <th></th>\n",
       "      <th>user_id</th>\n",
       "      <th>item_id</th>\n",
       "      <th>rating</th>\n",
       "      <th>timestamp</th>\n",
       "    </tr>\n",
       "  </thead>\n",
       "  <tbody>\n",
       "    <tr>\n",
       "      <th>0</th>\n",
       "      <td>196</td>\n",
       "      <td>242</td>\n",
       "      <td>3</td>\n",
       "      <td>881250949</td>\n",
       "    </tr>\n",
       "    <tr>\n",
       "      <th>1</th>\n",
       "      <td>186</td>\n",
       "      <td>302</td>\n",
       "      <td>3</td>\n",
       "      <td>891717742</td>\n",
       "    </tr>\n",
       "    <tr>\n",
       "      <th>2</th>\n",
       "      <td>22</td>\n",
       "      <td>377</td>\n",
       "      <td>1</td>\n",
       "      <td>878887116</td>\n",
       "    </tr>\n",
       "    <tr>\n",
       "      <th>3</th>\n",
       "      <td>244</td>\n",
       "      <td>51</td>\n",
       "      <td>2</td>\n",
       "      <td>880606923</td>\n",
       "    </tr>\n",
       "    <tr>\n",
       "      <th>4</th>\n",
       "      <td>166</td>\n",
       "      <td>346</td>\n",
       "      <td>1</td>\n",
       "      <td>886397596</td>\n",
       "    </tr>\n",
       "  </tbody>\n",
       "</table>\n",
       "</div>"
      ],
      "text/plain": [
       "   user_id  item_id  rating  timestamp\n",
       "0      196      242       3  881250949\n",
       "1      186      302       3  891717742\n",
       "2       22      377       1  878887116\n",
       "3      244       51       2  880606923\n",
       "4      166      346       1  886397596"
      ]
     },
     "execution_count": 2,
     "metadata": {},
     "output_type": "execute_result"
    }
   ],
   "source": [
    "import pandas as pd\n",
    "\n",
    "\n",
    "\"\"\"\n",
    "From: http://files.grouplens.org/datasets/movielens/ml-100k-README.txt\n",
    "u.data     -- The full u data set, 100000 ratings by 943 users on 1682 items.\n",
    "              Each user has rated at least 20 movies.  Users and items are\n",
    "              numbered consecutively from 1.  The data is randomly\n",
    "              ordered. This is a tab separated list of \n",
    "\t         user id | item id | rating | timestamp. \n",
    "              The time stamps are unix seconds since 1/1/1970 UTC   \"\"\"\n",
    "\n",
    "all_ratings = pd.read_csv(op.join(ML_100K_FOLDER, 'u.data'), \n",
    "                          sep='\\t', \n",
    "                          names=[\"user_id\", \"item_id\", \"rating\", \"timestamp\"])\n",
    "\n",
    "# one line corresponds to one rating per user per movie.\n",
    "\n",
    "all_ratings.head()"
   ]
  },
  {
   "cell_type": "code",
   "execution_count": 3,
   "metadata": {},
   "outputs": [
    {
     "data": {
      "text/html": [
       "<div>\n",
       "<table border=\"1\" class=\"dataframe\">\n",
       "  <thead>\n",
       "    <tr style=\"text-align: right;\">\n",
       "      <th></th>\n",
       "      <th>name</th>\n",
       "      <th>date</th>\n",
       "      <th>genre</th>\n",
       "      <th>url</th>\n",
       "      <th>feat_0</th>\n",
       "      <th>feat_1</th>\n",
       "      <th>feat_2</th>\n",
       "      <th>feat_3</th>\n",
       "      <th>feat_4</th>\n",
       "      <th>feat_5</th>\n",
       "      <th>...</th>\n",
       "      <th>feat_9</th>\n",
       "      <th>feat_10</th>\n",
       "      <th>feat_11</th>\n",
       "      <th>feat_12</th>\n",
       "      <th>feat_13</th>\n",
       "      <th>feat_14</th>\n",
       "      <th>feat_15</th>\n",
       "      <th>feat_16</th>\n",
       "      <th>feat_17</th>\n",
       "      <th>feat_18</th>\n",
       "    </tr>\n",
       "  </thead>\n",
       "  <tbody>\n",
       "    <tr>\n",
       "      <th>1</th>\n",
       "      <td>Toy Story (1995)</td>\n",
       "      <td>01-Jan-1995</td>\n",
       "      <td>01-Jan-1997</td>\n",
       "      <td>http://us.imdb.com/M/title-exact?Toy%20Story%2...</td>\n",
       "      <td>0</td>\n",
       "      <td>0</td>\n",
       "      <td>0</td>\n",
       "      <td>1</td>\n",
       "      <td>1</td>\n",
       "      <td>1</td>\n",
       "      <td>...</td>\n",
       "      <td>0</td>\n",
       "      <td>0</td>\n",
       "      <td>0</td>\n",
       "      <td>0</td>\n",
       "      <td>0</td>\n",
       "      <td>0</td>\n",
       "      <td>0</td>\n",
       "      <td>0</td>\n",
       "      <td>0</td>\n",
       "      <td>0</td>\n",
       "    </tr>\n",
       "    <tr>\n",
       "      <th>2</th>\n",
       "      <td>GoldenEye (1995)</td>\n",
       "      <td>01-Jan-1995</td>\n",
       "      <td>01-Jan-1997</td>\n",
       "      <td>http://us.imdb.com/M/title-exact?GoldenEye%20(...</td>\n",
       "      <td>0</td>\n",
       "      <td>1</td>\n",
       "      <td>1</td>\n",
       "      <td>0</td>\n",
       "      <td>0</td>\n",
       "      <td>0</td>\n",
       "      <td>...</td>\n",
       "      <td>0</td>\n",
       "      <td>0</td>\n",
       "      <td>0</td>\n",
       "      <td>0</td>\n",
       "      <td>0</td>\n",
       "      <td>0</td>\n",
       "      <td>0</td>\n",
       "      <td>1</td>\n",
       "      <td>0</td>\n",
       "      <td>0</td>\n",
       "    </tr>\n",
       "    <tr>\n",
       "      <th>3</th>\n",
       "      <td>Four Rooms (1995)</td>\n",
       "      <td>01-Jan-1995</td>\n",
       "      <td>01-Jan-1997</td>\n",
       "      <td>http://us.imdb.com/M/title-exact?Four%20Rooms%...</td>\n",
       "      <td>0</td>\n",
       "      <td>0</td>\n",
       "      <td>0</td>\n",
       "      <td>0</td>\n",
       "      <td>0</td>\n",
       "      <td>0</td>\n",
       "      <td>...</td>\n",
       "      <td>0</td>\n",
       "      <td>0</td>\n",
       "      <td>0</td>\n",
       "      <td>0</td>\n",
       "      <td>0</td>\n",
       "      <td>0</td>\n",
       "      <td>0</td>\n",
       "      <td>1</td>\n",
       "      <td>0</td>\n",
       "      <td>0</td>\n",
       "    </tr>\n",
       "    <tr>\n",
       "      <th>4</th>\n",
       "      <td>Get Shorty (1995)</td>\n",
       "      <td>01-Jan-1995</td>\n",
       "      <td>01-Jan-1997</td>\n",
       "      <td>http://us.imdb.com/M/title-exact?Get%20Shorty%...</td>\n",
       "      <td>0</td>\n",
       "      <td>1</td>\n",
       "      <td>0</td>\n",
       "      <td>0</td>\n",
       "      <td>0</td>\n",
       "      <td>1</td>\n",
       "      <td>...</td>\n",
       "      <td>0</td>\n",
       "      <td>0</td>\n",
       "      <td>0</td>\n",
       "      <td>0</td>\n",
       "      <td>0</td>\n",
       "      <td>0</td>\n",
       "      <td>0</td>\n",
       "      <td>0</td>\n",
       "      <td>0</td>\n",
       "      <td>0</td>\n",
       "    </tr>\n",
       "    <tr>\n",
       "      <th>5</th>\n",
       "      <td>Copycat (1995)</td>\n",
       "      <td>01-Jan-1995</td>\n",
       "      <td>01-Jan-1997</td>\n",
       "      <td>http://us.imdb.com/M/title-exact?Copycat%20(1995)</td>\n",
       "      <td>0</td>\n",
       "      <td>0</td>\n",
       "      <td>0</td>\n",
       "      <td>0</td>\n",
       "      <td>0</td>\n",
       "      <td>0</td>\n",
       "      <td>...</td>\n",
       "      <td>0</td>\n",
       "      <td>0</td>\n",
       "      <td>0</td>\n",
       "      <td>0</td>\n",
       "      <td>0</td>\n",
       "      <td>0</td>\n",
       "      <td>0</td>\n",
       "      <td>1</td>\n",
       "      <td>0</td>\n",
       "      <td>0</td>\n",
       "    </tr>\n",
       "  </tbody>\n",
       "</table>\n",
       "<p>5 rows × 23 columns</p>\n",
       "</div>"
      ],
      "text/plain": [
       "                name         date        genre  \\\n",
       "1   Toy Story (1995)  01-Jan-1995  01-Jan-1997   \n",
       "2   GoldenEye (1995)  01-Jan-1995  01-Jan-1997   \n",
       "3  Four Rooms (1995)  01-Jan-1995  01-Jan-1997   \n",
       "4  Get Shorty (1995)  01-Jan-1995  01-Jan-1997   \n",
       "5     Copycat (1995)  01-Jan-1995  01-Jan-1997   \n",
       "\n",
       "                                                 url  feat_0  feat_1  feat_2  \\\n",
       "1  http://us.imdb.com/M/title-exact?Toy%20Story%2...       0       0       0   \n",
       "2  http://us.imdb.com/M/title-exact?GoldenEye%20(...       0       1       1   \n",
       "3  http://us.imdb.com/M/title-exact?Four%20Rooms%...       0       0       0   \n",
       "4  http://us.imdb.com/M/title-exact?Get%20Shorty%...       0       1       0   \n",
       "5  http://us.imdb.com/M/title-exact?Copycat%20(1995)       0       0       0   \n",
       "\n",
       "   feat_3  feat_4  feat_5   ...     feat_9  feat_10  feat_11  feat_12  \\\n",
       "1       1       1       1   ...          0        0        0        0   \n",
       "2       0       0       0   ...          0        0        0        0   \n",
       "3       0       0       0   ...          0        0        0        0   \n",
       "4       0       0       1   ...          0        0        0        0   \n",
       "5       0       0       0   ...          0        0        0        0   \n",
       "\n",
       "   feat_13  feat_14  feat_15  feat_16  feat_17  feat_18  \n",
       "1        0        0        0        0        0        0  \n",
       "2        0        0        0        1        0        0  \n",
       "3        0        0        0        1        0        0  \n",
       "4        0        0        0        0        0        0  \n",
       "5        0        0        0        1        0        0  \n",
       "\n",
       "[5 rows x 23 columns]"
      ]
     },
     "execution_count": 3,
     "metadata": {},
     "output_type": "execute_result"
    }
   ],
   "source": [
    "names = [\"name\", \"date\", \"genre\", \"url\"]\n",
    "names += [\"feat_\" + str(x) for x in range(19)]\n",
    "\n",
    "\n",
    "\"\"\"\n",
    "From: http://files.grouplens.org/datasets/movielens/ml-100k-README.txt\n",
    "u.item     -- Information about the items (movies); this is a tab separated\n",
    "              list of\n",
    "              movie id | movie title | release date | video release date |\n",
    "              IMDb URL | unknown | Action | Adventure | Animation |\n",
    "              Children's | Comedy | Crime | Documentary | Drama | Fantasy |\n",
    "              Film-Noir | Horror | Musical | Mystery | Romance | Sci-Fi |\n",
    "              Thriller | War | Western |\n",
    "              The last 19 fields are the genres, a 1 indicates the movie\n",
    "              is of that genre, a 0 indicates it is not; movies can be in\n",
    "              several genres at once.\n",
    "              The movie ids are the ones used in the u.data data set.\n",
    "\"\"\"\n",
    "\n",
    "items = pd.read_csv(op.join(ML_100K_FOLDER, 'u.item'), sep='|', encoding='latin-1',\n",
    "                    names=names)\n",
    "\n",
    "# some dates are Nan so we set a default value.\n",
    "# it's not important for our study.\n",
    "items.fillna(value=\"01-Jan-1997\", inplace=True) \n",
    "items.head()"
   ]
  },
  {
   "cell_type": "code",
   "execution_count": 4,
   "metadata": {},
   "outputs": [
    {
     "data": {
      "text/plain": [
       "count    100000.000000\n",
       "mean          3.529860\n",
       "std           1.125674\n",
       "min           1.000000\n",
       "25%           3.000000\n",
       "50%           4.000000\n",
       "75%           4.000000\n",
       "max           5.000000\n",
       "Name: rating, dtype: float64"
      ]
     },
     "execution_count": 4,
     "metadata": {},
     "output_type": "execute_result"
    }
   ],
   "source": [
    "# the dataset is a bit skewed towards high ratings. The average is around 3.53 with a standard deviation of 1.12.\n",
    "\n",
    "all_ratings['rating'].describe()"
   ]
  },
  {
   "cell_type": "code",
   "execution_count": 5,
   "metadata": {},
   "outputs": [
    {
     "name": "stdout",
     "output_type": "stream",
     "text": [
      "Number of users: 943\n"
     ]
    }
   ],
   "source": [
    "print('Number of users:', len(all_ratings['user_id'].unique()))"
   ]
  },
  {
   "cell_type": "code",
   "execution_count": 6,
   "metadata": {},
   "outputs": [
    {
     "name": "stdout",
     "output_type": "stream",
     "text": [
      "Number of movies: 1682\n"
     ]
    }
   ],
   "source": [
    "print('Number of movies:', len(all_ratings['item_id'].unique()))"
   ]
  },
  {
   "cell_type": "code",
   "execution_count": 7,
   "metadata": {
    "collapsed": true
   },
   "outputs": [],
   "source": [
    "max_user_id = all_ratings['user_id'].max()\n",
    "max_item_id = all_ratings['item_id'].max()"
   ]
  },
  {
   "cell_type": "code",
   "execution_count": 8,
   "metadata": {
    "collapsed": true
   },
   "outputs": [],
   "source": [
    "# we split the dataset into a training and a testing set.\n",
    "\n",
    "from sklearn.model_selection import train_test_split\n",
    "\n",
    "ratings_train, ratings_test = train_test_split(\n",
    "    all_ratings, test_size=0.2, random_state=0)\n",
    "\n",
    "user_id_train = ratings_train['user_id']\n",
    "item_id_train = ratings_train['item_id']\n",
    "rating_train = ratings_train['rating']\n",
    "\n",
    "user_id_test = ratings_test['user_id']\n",
    "item_id_test = ratings_test['item_id']\n",
    "rating_test = ratings_test['rating']"
   ]
  },
  {
   "cell_type": "code",
   "execution_count": 9,
   "metadata": {},
   "outputs": [
    {
     "data": {
      "text/plain": [
       "((80000,), (80000,), (80000,))"
      ]
     },
     "execution_count": 9,
     "metadata": {},
     "output_type": "execute_result"
    }
   ],
   "source": [
    "# we have 80 000 samples in the training set.\n",
    "user_id_train.shape, item_id_train.shape, rating_train.shape"
   ]
  },
  {
   "cell_type": "code",
   "execution_count": 10,
   "metadata": {},
   "outputs": [
    {
     "data": {
      "text/plain": [
       "((20000,), (20000,), (20000,))"
      ]
     },
     "execution_count": 10,
     "metadata": {},
     "output_type": "execute_result"
    }
   ],
   "source": [
    "# we have 20 000 samples in the testing set.\n",
    "user_id_test.shape, item_id_test.shape, rating_test.shape"
   ]
  },
  {
   "cell_type": "markdown",
   "metadata": {},
   "source": [
    "# Supervised Ranking prediction\n",
    "\n",
    "- Based on a pair (user_id, item_id), we want to be able to predict the rating.\n",
    "- An example is: What would the rating John Appleseed (user id = 404) give to Toy Story 3 (item id = 666)? Would it be 3.5? 4.5?"
   ]
  },
  {
   "cell_type": "markdown",
   "metadata": {},
   "source": [
    "## Collaborative Filtering\n",
    "\n",
    "- Collaborative filtering does not use the features of the items to predict the rating. It only uses the similarity between the different users to make a prediction.\n",
    "- Let's see what we can get!"
   ]
  },
  {
   "cell_type": "code",
   "execution_count": 11,
   "metadata": {},
   "outputs": [
    {
     "name": "stderr",
     "output_type": "stream",
     "text": [
      "Using TensorFlow backend.\n"
     ]
    }
   ],
   "source": [
    "# keras headers. Make sure you use the TensorFlow back\n",
    "\n",
    "from keras import layers\n",
    "from keras.layers import Input, Embedding, Flatten, Dense, Dropout\n",
    "from keras.models import Model"
   ]
  },
  {
   "cell_type": "code",
   "execution_count": 12,
   "metadata": {
    "collapsed": true
   },
   "outputs": [],
   "source": [
    "# For each sample we input the integer identifiers\n",
    "# of a single user and a single item\n",
    "user_id_input = Input(shape=[1], name='user')\n",
    "item_id_input = Input(shape=[1], name='item')\n",
    "\n",
    "embedding_size = 11 # 2^11 = 2048. So we could index each movie or user with this embedding.\n",
    "user_embedding = Embedding(output_dim=embedding_size, input_dim=max_user_id + 1,\n",
    "                           input_length=1, name='user_embedding')(user_id_input)\n",
    "item_embedding = Embedding(output_dim=embedding_size, input_dim=max_item_id + 1,\n",
    "                           input_length=1, name='item_embedding')(item_id_input)\n",
    "\n",
    "# reshape from shape: (batch_size, input_length, embedding_size)\n",
    "# to shape: (batch_size, input_length * embedding_size) which is\n",
    "# equal to shape: (batch_size, embedding_size)\n",
    "user_vecs = Flatten()(user_embedding)\n",
    "item_vecs = Flatten()(item_embedding)\n",
    "\n",
    "# y = merge([user_vecs, item_vecs], mode='dot', output_shape=(1,))\n",
    "y = layers.dot([user_vecs, item_vecs], axes=1)\n",
    "\n",
    "model = Model(inputs=[user_id_input, item_id_input], outputs=[y])\n",
    "model.compile(optimizer='adam', loss='mae')"
   ]
  },
  {
   "cell_type": "code",
   "execution_count": 13,
   "metadata": {},
   "outputs": [
    {
     "name": "stdout",
     "output_type": "stream",
     "text": [
      "(80000,)\n"
     ]
    }
   ],
   "source": [
    "# Useful for debugging the output shape of model\n",
    "initial_train_preds = model.predict([user_id_train, item_id_train]).squeeze()\n",
    "print(initial_train_preds.shape)"
   ]
  },
  {
   "cell_type": "code",
   "execution_count": 14,
   "metadata": {},
   "outputs": [
    {
     "data": {
      "text/html": [
       "<div>\n",
       "<table border=\"1\" class=\"dataframe\">\n",
       "  <thead>\n",
       "    <tr style=\"text-align: right;\">\n",
       "      <th></th>\n",
       "      <th>0</th>\n",
       "    </tr>\n",
       "  </thead>\n",
       "  <tbody>\n",
       "    <tr>\n",
       "      <th>count</th>\n",
       "      <td>80000.000000</td>\n",
       "    </tr>\n",
       "    <tr>\n",
       "      <th>mean</th>\n",
       "      <td>-0.000013</td>\n",
       "    </tr>\n",
       "    <tr>\n",
       "      <th>std</th>\n",
       "      <td>0.002803</td>\n",
       "    </tr>\n",
       "    <tr>\n",
       "      <th>min</th>\n",
       "      <td>-0.011752</td>\n",
       "    </tr>\n",
       "    <tr>\n",
       "      <th>25%</th>\n",
       "      <td>-0.001894</td>\n",
       "    </tr>\n",
       "    <tr>\n",
       "      <th>50%</th>\n",
       "      <td>-0.000022</td>\n",
       "    </tr>\n",
       "    <tr>\n",
       "      <th>75%</th>\n",
       "      <td>0.001863</td>\n",
       "    </tr>\n",
       "    <tr>\n",
       "      <th>max</th>\n",
       "      <td>0.011778</td>\n",
       "    </tr>\n",
       "  </tbody>\n",
       "</table>\n",
       "</div>"
      ],
      "text/plain": [
       "                  0\n",
       "count  80000.000000\n",
       "mean      -0.000013\n",
       "std        0.002803\n",
       "min       -0.011752\n",
       "25%       -0.001894\n",
       "50%       -0.000022\n",
       "75%        0.001863\n",
       "max        0.011778"
      ]
     },
     "execution_count": 14,
     "metadata": {},
     "output_type": "execute_result"
    }
   ],
   "source": [
    "# just to show you how random the score are! Half are negative when scores are defined positive.\n",
    "pd.DataFrame(initial_train_preds).describe()"
   ]
  },
  {
   "cell_type": "code",
   "execution_count": 15,
   "metadata": {},
   "outputs": [
    {
     "name": "stdout",
     "output_type": "stream",
     "text": [
      "Random init MAE: 3.531\n"
     ]
    }
   ],
   "source": [
    "# Throughout the study we're going to use the MAE error. \n",
    "# It's pretty easy to understand because it's the mean absolute error.\n",
    "# For example, if the true score is 3.5 and we predict 2.1, the error is 3.5 - 2.1 = 1.4\n",
    "# The MSE is a bit harder to understand.\n",
    "\n",
    "from sklearn.metrics import mean_squared_error, mean_absolute_error\n",
    "\n",
    "print(\"Random init MAE: %0.3f\" % mean_absolute_error(initial_train_preds, rating_train))"
   ]
  },
  {
   "cell_type": "code",
   "execution_count": 16,
   "metadata": {},
   "outputs": [
    {
     "name": "stdout",
     "output_type": "stream",
     "text": [
      "Train on 72000 samples, validate on 8000 samples\n",
      "Epoch 1/20\n",
      "1s - loss: 3.2745 - val_loss: 2.3261\n",
      "Epoch 2/20\n",
      "1s - loss: 1.4207 - val_loss: 1.0231\n",
      "Epoch 3/20\n",
      "1s - loss: 0.8965 - val_loss: 0.8479\n",
      "Epoch 4/20\n",
      "1s - loss: 0.7881 - val_loss: 0.7959\n",
      "Epoch 5/20\n",
      "1s - loss: 0.7490 - val_loss: 0.7752\n",
      "Epoch 6/20\n",
      "1s - loss: 0.7301 - val_loss: 0.7660\n",
      "Epoch 7/20\n",
      "1s - loss: 0.7190 - val_loss: 0.7582\n",
      "Epoch 8/20\n",
      "1s - loss: 0.7114 - val_loss: 0.7551\n",
      "Epoch 9/20\n",
      "1s - loss: 0.7050 - val_loss: 0.7540\n",
      "Epoch 10/20\n",
      "1s - loss: 0.7002 - val_loss: 0.7518\n",
      "Epoch 11/20\n",
      "1s - loss: 0.6964 - val_loss: 0.7492\n",
      "Epoch 12/20\n",
      "1s - loss: 0.6924 - val_loss: 0.7478\n",
      "Epoch 13/20\n",
      "1s - loss: 0.6896 - val_loss: 0.7474\n",
      "Epoch 14/20\n",
      "1s - loss: 0.6865 - val_loss: 0.7473\n",
      "Epoch 15/20\n",
      "1s - loss: 0.6840 - val_loss: 0.7452\n",
      "Epoch 16/20\n",
      "1s - loss: 0.6811 - val_loss: 0.7451\n",
      "Epoch 17/20\n",
      "1s - loss: 0.6786 - val_loss: 0.7439\n",
      "Epoch 18/20\n",
      "1s - loss: 0.6762 - val_loss: 0.7411\n",
      "Epoch 19/20\n",
      "1s - loss: 0.6732 - val_loss: 0.7415\n",
      "Epoch 20/20\n",
      "1s - loss: 0.6707 - val_loss: 0.7415\n"
     ]
    }
   ],
   "source": [
    "# Let's start the training.\n",
    "\n",
    "history = model.fit([user_id_train, item_id_train], rating_train,\n",
    "                    batch_size=64, epochs=20, validation_split=0.1,\n",
    "                    shuffle=True, verbose=2)"
   ]
  },
  {
   "cell_type": "code",
   "execution_count": 17,
   "metadata": {},
   "outputs": [
    {
     "name": "stdout",
     "output_type": "stream",
     "text": [
      "Final train MAE: 0.664\n",
      "Final test MAE: 0.735\n"
     ]
    }
   ],
   "source": [
    "train_preds = model.predict([user_id_train, item_id_train]).squeeze()\n",
    "print(\"Final train MAE: %0.3f\" % mean_absolute_error(train_preds, rating_train))\n",
    "\n",
    "test_preds = model.predict([user_id_test, item_id_test]).squeeze()\n",
    "print(\"Final test MAE: %0.3f\" % mean_absolute_error(test_preds, rating_test))"
   ]
  },
  {
   "cell_type": "code",
   "execution_count": 18,
   "metadata": {
    "collapsed": true
   },
   "outputs": [],
   "source": [
    "# Let's now consider a bigger model."
   ]
  },
  {
   "cell_type": "code",
   "execution_count": 19,
   "metadata": {
    "collapsed": true
   },
   "outputs": [],
   "source": [
    "user_id_input = Input(shape=[1], name='user')\n",
    "item_id_input = Input(shape=[1], name='item')\n",
    "\n",
    "embedding_size = 11\n",
    "user_embedding = Embedding(output_dim=embedding_size, input_dim=max_user_id + 1,\n",
    "                           input_length=1, name='user_embedding')(user_id_input)\n",
    "item_embedding = Embedding(output_dim=embedding_size, input_dim=max_item_id + 1,\n",
    "                           input_length=1, name='item_embedding')(item_id_input)\n",
    "\n",
    "# reshape from shape: (batch_size, input_length, embedding_size)\n",
    "# to shape: (batch_size, input_length * embedding_size) which is\n",
    "# equal to shape: (batch_size, embedding_size)\n",
    "user_vecs = Flatten()(user_embedding)\n",
    "item_vecs = Flatten()(item_embedding)\n",
    "\n",
    "input_vecs = layers.concatenate([user_vecs, item_vecs])\n",
    "## Error 1: Dropout was too high, preventing any training\n",
    "input_vecs = Dropout(0.5)(input_vecs)\n",
    "\n",
    "x = Dense(64, activation='relu')(input_vecs)\n",
    "\n",
    "## Error 2: output dimension was 2 where we predict only 1-d rating\n",
    "## Error 3: tanh activation squashes the outputs between -1 and 1\n",
    "## when we want to predict values between 1 and 5\n",
    "y = Dense(1)(x)\n",
    "\n",
    "model = Model(inputs=[user_id_input, item_id_input], outputs=[y])\n",
    "## Error 4: A binary crossentropy loss is only useful for binary\n",
    "## classification, while we are in regression (use mse or mae)\n",
    "model.compile(optimizer='adam', loss='mae')"
   ]
  },
  {
   "cell_type": "code",
   "execution_count": 20,
   "metadata": {},
   "outputs": [
    {
     "name": "stdout",
     "output_type": "stream",
     "text": [
      "Train on 72000 samples, validate on 8000 samples\n",
      "Epoch 1/20\n",
      "2s - loss: 1.0474 - val_loss: 0.7646\n",
      "Epoch 2/20\n",
      "2s - loss: 0.7578 - val_loss: 0.7552\n",
      "Epoch 3/20\n",
      "2s - loss: 0.7443 - val_loss: 0.7515\n",
      "Epoch 4/20\n",
      "2s - loss: 0.7368 - val_loss: 0.7490\n",
      "Epoch 5/20\n",
      "2s - loss: 0.7322 - val_loss: 0.7455\n",
      "Epoch 6/20\n",
      "2s - loss: 0.7278 - val_loss: 0.7462\n",
      "Epoch 7/20\n",
      "2s - loss: 0.7239 - val_loss: 0.7454\n",
      "Epoch 8/20\n",
      "2s - loss: 0.7246 - val_loss: 0.7448\n",
      "Epoch 9/20\n",
      "2s - loss: 0.7197 - val_loss: 0.7435\n",
      "Epoch 10/20\n",
      "2s - loss: 0.7177 - val_loss: 0.7458\n",
      "Epoch 11/20\n",
      "2s - loss: 0.7145 - val_loss: 0.7390\n",
      "Epoch 12/20\n",
      "2s - loss: 0.7122 - val_loss: 0.7391\n",
      "Epoch 13/20\n",
      "2s - loss: 0.7121 - val_loss: 0.7438\n",
      "Epoch 14/20\n",
      "2s - loss: 0.7096 - val_loss: 0.7347\n",
      "Epoch 15/20\n",
      "2s - loss: 0.7054 - val_loss: 0.7353\n",
      "Epoch 16/20\n",
      "2s - loss: 0.7047 - val_loss: 0.7294\n",
      "Epoch 17/20\n",
      "2s - loss: 0.7023 - val_loss: 0.7300\n",
      "Epoch 18/20\n",
      "2s - loss: 0.7009 - val_loss: 0.7293\n",
      "Epoch 19/20\n",
      "2s - loss: 0.7015 - val_loss: 0.7316\n",
      "Epoch 20/20\n",
      "2s - loss: 0.6998 - val_loss: 0.7296\n"
     ]
    }
   ],
   "source": [
    "history = model.fit([user_id_train, item_id_train], rating_train,\n",
    "                    batch_size=64, epochs=20, validation_split=0.1,\n",
    "                    shuffle=True, verbose=2)"
   ]
  },
  {
   "cell_type": "code",
   "execution_count": 21,
   "metadata": {},
   "outputs": [
    {
     "name": "stdout",
     "output_type": "stream",
     "text": [
      "Final train MAE: 0.676\n",
      "Final test MAE: 0.716\n"
     ]
    }
   ],
   "source": [
    "train_preds = model.predict([user_id_train, item_id_train]).squeeze()\n",
    "print(\"Final train MAE: %0.3f\" % mean_absolute_error(train_preds, rating_train))\n",
    "\n",
    "test_preds = model.predict([user_id_test, item_id_test]).squeeze()\n",
    "print(\"Final test MAE: %0.3f\" % mean_absolute_error(test_preds, rating_test))"
   ]
  },
  {
   "cell_type": "markdown",
   "metadata": {},
   "source": [
    "## Item Content Based Filtering\n",
    "\n",
    "- Now we're going to use the information of the items to predict the rating. \n",
    "- We forget about the user."
   ]
  },
  {
   "cell_type": "code",
   "execution_count": 22,
   "metadata": {},
   "outputs": [
    {
     "data": {
      "text/plain": [
       "(80000, 20000)"
      ]
     },
     "execution_count": 22,
     "metadata": {},
     "output_type": "execute_result"
    }
   ],
   "source": [
    "# Some pre processing here.\n",
    "\n",
    "# transform the date (string) into an int representing the release year\n",
    "parsed_dates = [int(film_date[-4:])\n",
    "                for film_date in items[\"date\"].tolist()]\n",
    "\n",
    "items['parsed_date'] = pd.Series(parsed_dates, index=items.index)\n",
    "max_date = max(items['parsed_date'])\n",
    "min_date = min(items['parsed_date'])\n",
    "\n",
    "from sklearn.preprocessing import scale\n",
    "\n",
    "items['scaled_date'] = scale(items['parsed_date'].astype('float64'))\n",
    "item_meta_train = items[\"scaled_date\"][item_id_train]\n",
    "item_meta_test = items[\"scaled_date\"][item_id_test]\n",
    "\n",
    "len(item_meta_train), len(item_meta_test)"
   ]
  },
  {
   "cell_type": "code",
   "execution_count": 23,
   "metadata": {
    "collapsed": true
   },
   "outputs": [],
   "source": [
    "\n",
    "# For each sample we input the integer identifiers\n",
    "# of a single user and a single item\n",
    "item_id_input = Input(shape=[1], name='item')\n",
    "meta_input = Input(shape=[1], name='meta_item')\n",
    "\n",
    "embedding_size = 32\n",
    "item_embedding = Embedding(output_dim=embedding_size, input_dim=max_item_id + 1,\n",
    "                           input_length=1, name='item_embedding')(item_id_input)\n",
    "item_vecs = Flatten()(item_embedding)\n",
    "\n",
    "input_vecs = layers.concatenate([item_vecs, meta_input])\n",
    "\n",
    "x = Dense(64, activation='relu')(input_vecs)\n",
    "x = Dropout(0.5)(x)\n",
    "x = Dense(32, activation='relu')(input_vecs)\n",
    "y = Dense(1)(x)\n",
    "\n",
    "model = Model(inputs=[user_id_input, item_id_input, meta_input], outputs=y)\n",
    "model.compile(optimizer='adam', loss='mae')"
   ]
  },
  {
   "cell_type": "code",
   "execution_count": 24,
   "metadata": {},
   "outputs": [
    {
     "name": "stdout",
     "output_type": "stream",
     "text": [
      "Train on 72000 samples, validate on 8000 samples\n",
      "Epoch 1/20\n",
      "2s - loss: 1.0483 - val_loss: 0.8212\n",
      "Epoch 2/20\n",
      "1s - loss: 0.7946 - val_loss: 0.8146\n",
      "Epoch 3/20\n",
      "1s - loss: 0.7850 - val_loss: 0.8115\n",
      "Epoch 4/20\n",
      "1s - loss: 0.7802 - val_loss: 0.8078\n",
      "Epoch 5/20\n",
      "1s - loss: 0.7769 - val_loss: 0.8061\n",
      "Epoch 6/20\n",
      "2s - loss: 0.7748 - val_loss: 0.8087\n",
      "Epoch 7/20\n",
      "2s - loss: 0.7732 - val_loss: 0.8071\n",
      "Epoch 8/20\n",
      "2s - loss: 0.7718 - val_loss: 0.8047\n",
      "Epoch 9/20\n",
      "2s - loss: 0.7707 - val_loss: 0.8055\n",
      "Epoch 10/20\n",
      "2s - loss: 0.7694 - val_loss: 0.8062\n",
      "Epoch 11/20\n",
      "2s - loss: 0.7688 - val_loss: 0.8053\n",
      "Epoch 12/20\n",
      "2s - loss: 0.7676 - val_loss: 0.8045\n",
      "Epoch 13/20\n",
      "2s - loss: 0.7669 - val_loss: 0.8036\n",
      "Epoch 14/20\n",
      "2s - loss: 0.7669 - val_loss: 0.8066\n",
      "Epoch 15/20\n",
      "1s - loss: 0.7661 - val_loss: 0.8030\n",
      "Epoch 16/20\n",
      "2s - loss: 0.7655 - val_loss: 0.8043\n",
      "Epoch 17/20\n",
      "2s - loss: 0.7652 - val_loss: 0.8038\n",
      "Epoch 18/20\n",
      "2s - loss: 0.7651 - val_loss: 0.8043\n",
      "Epoch 19/20\n",
      "2s - loss: 0.7645 - val_loss: 0.8026\n",
      "Epoch 20/20\n",
      "2s - loss: 0.7642 - val_loss: 0.8020\n"
     ]
    }
   ],
   "source": [
    "history = model.fit([user_id_train, item_id_train, item_meta_train], rating_train,\n",
    "                    batch_size=64, epochs=20, validation_split=0.1,\n",
    "                    shuffle=True, verbose=2)"
   ]
  },
  {
   "cell_type": "code",
   "execution_count": 25,
   "metadata": {},
   "outputs": [
    {
     "name": "stdout",
     "output_type": "stream",
     "text": [
      "Final train MAE: 0.764\n",
      "Final test MAE: 0.791\n"
     ]
    }
   ],
   "source": [
    "# It does not work well. The error is much higher when the user_id is not here. \n",
    "# It means that the user is important.\n",
    "\n",
    "train_preds = model.predict([user_id_train, item_id_train, item_meta_train]).squeeze()\n",
    "print(\"Final train MAE: %0.3f\" % mean_absolute_error(train_preds, rating_train))\n",
    "\n",
    "test_preds = model.predict([user_id_test, item_id_test, item_meta_test]).squeeze()\n",
    "print(\"Final test MAE: %0.3f\" % mean_absolute_error(test_preds, rating_test))"
   ]
  },
  {
   "cell_type": "markdown",
   "metadata": {},
   "source": [
    "# Hybrid Systems\n",
    "\n",
    "- Let's not combine the two: Collaborative Filtering and Content Based Items\n",
    "- And see if it helps improve the loss on the test set, when computing the ratings!"
   ]
  },
  {
   "cell_type": "code",
   "execution_count": 26,
   "metadata": {
    "collapsed": true
   },
   "outputs": [],
   "source": [
    "user_id_input = Input(shape=[1], name='user')\n",
    "item_id_input = Input(shape=[1], name='item')\n",
    "meta_input = Input(shape=[1], name='meta_item')\n",
    "\n",
    "embedding_size = 11\n",
    "user_embedding = Embedding(output_dim=embedding_size, input_dim=max_user_id + 1,\n",
    "                           input_length=1, name='user_embedding')(user_id_input)\n",
    "item_embedding = Embedding(output_dim=embedding_size, input_dim=max_item_id + 1,\n",
    "                           input_length=1, name='item_embedding')(item_id_input)\n",
    "\n",
    "# reshape from shape: (batch_size, input_length, embedding_size)\n",
    "# to shape: (batch_size, input_length * embedding_size) which is\n",
    "# equal to shape: (batch_size, embedding_size)\n",
    "user_vecs = Flatten()(user_embedding)\n",
    "item_vecs = Flatten()(item_embedding)\n",
    "\n",
    "input_vecs = layers.concatenate([user_vecs, item_vecs, meta_input])\n",
    "input_vecs = Dropout(0.5)(input_vecs)\n",
    "\n",
    "# Final test MAE: 0.712\n",
    "x = Dense(64, activation='relu')(input_vecs)\n",
    "x = Dropout(0.5)(x)\n",
    "x = Dense(32, activation='relu')(x)\n",
    "y = Dense(1)(x)\n",
    "\n",
    "\n",
    "model = Model(inputs=[user_id_input, item_id_input, meta_input], outputs=y)\n",
    "model.compile(optimizer='adam', loss='mae')"
   ]
  },
  {
   "cell_type": "code",
   "execution_count": 27,
   "metadata": {},
   "outputs": [
    {
     "name": "stdout",
     "output_type": "stream",
     "text": [
      "Train on 72000 samples, validate on 8000 samples\n",
      "Epoch 1/20\n",
      "3s - loss: 1.0204 - val_loss: 0.7789\n",
      "Epoch 2/20\n",
      "3s - loss: 0.7934 - val_loss: 0.7671\n",
      "Epoch 3/20\n",
      "3s - loss: 0.7621 - val_loss: 0.7480\n",
      "Epoch 4/20\n",
      "3s - loss: 0.7403 - val_loss: 0.7438\n",
      "Epoch 5/20\n",
      "2s - loss: 0.7294 - val_loss: 0.7463\n",
      "Epoch 6/20\n",
      "3s - loss: 0.7225 - val_loss: 0.7385\n",
      "Epoch 7/20\n",
      "3s - loss: 0.7202 - val_loss: 0.7352\n",
      "Epoch 8/20\n",
      "3s - loss: 0.7152 - val_loss: 0.7410\n",
      "Epoch 9/20\n",
      "3s - loss: 0.7122 - val_loss: 0.7354\n",
      "Epoch 10/20\n",
      "3s - loss: 0.7139 - val_loss: 0.7386\n",
      "Epoch 11/20\n",
      "3s - loss: 0.7093 - val_loss: 0.7342\n",
      "Epoch 12/20\n",
      "3s - loss: 0.7075 - val_loss: 0.7327\n",
      "Epoch 13/20\n",
      "2s - loss: 0.7074 - val_loss: 0.7358\n",
      "Epoch 14/20\n",
      "2s - loss: 0.7082 - val_loss: 0.7329\n",
      "Epoch 15/20\n",
      "3s - loss: 0.7066 - val_loss: 0.7330\n",
      "Epoch 16/20\n",
      "2s - loss: 0.7055 - val_loss: 0.7313\n",
      "Epoch 17/20\n",
      "2s - loss: 0.7026 - val_loss: 0.7302\n",
      "Epoch 18/20\n",
      "3s - loss: 0.7009 - val_loss: 0.7344\n",
      "Epoch 19/20\n",
      "3s - loss: 0.7026 - val_loss: 0.7268\n",
      "Epoch 20/20\n",
      "2s - loss: 0.7002 - val_loss: 0.7333\n"
     ]
    }
   ],
   "source": [
    "history = model.fit([user_id_train, item_id_train, item_meta_train], rating_train,\n",
    "                    batch_size=64, epochs=20, validation_split=0.1,\n",
    "                    shuffle=True, verbose=2)"
   ]
  },
  {
   "cell_type": "code",
   "execution_count": 28,
   "metadata": {},
   "outputs": [
    {
     "name": "stdout",
     "output_type": "stream",
     "text": [
      "Final train MAE: 0.682\n",
      "Final test MAE: 0.715\n"
     ]
    }
   ],
   "source": [
    "train_preds = model.predict([user_id_train, item_id_train, item_meta_train]).squeeze()\n",
    "print(\"Final train MAE: %0.3f\" % mean_absolute_error(train_preds, rating_train))\n",
    "\n",
    "test_preds = model.predict([user_id_test, item_id_test, item_meta_test]).squeeze()\n",
    "print(\"Final test MAE: %0.3f\" % mean_absolute_error(test_preds, rating_test))"
   ]
  },
  {
   "cell_type": "code",
   "execution_count": 61,
   "metadata": {},
   "outputs": [
    {
     "data": {
      "text/plain": [
       "<matplotlib.legend.Legend at 0x1201748d0>"
      ]
     },
     "execution_count": 61,
     "metadata": {},
     "output_type": "execute_result"
    },
    {
     "data": {
      "image/png": "[encoded data removed]",
      "text/plain": [
       "<matplotlib.figure.Figure at 0x1200f2400>"
      ]
     },
     "metadata": {},
     "output_type": "display_data"
    }
   ],
   "source": [
    "%matplotlib inline\n",
    "import matplotlib.pyplot as plt\n",
    "# The values you see here are the recorded training_loss, and validation_loss after each epoch.\n",
    "# The first value correspond to the losses after the first epoch.\n",
    "# The convergence is quick.\n",
    "plt.plot(history.history['loss'])\n",
    "plt.plot(history.history['val_loss']) \n",
    "plt.legend(['Loss', 'Val Loss'])"
   ]
  },
  {
   "cell_type": "markdown",
   "metadata": {},
   "source": [
    "# Movie Recommendation\n",
    "\n",
    "- Finally let's see how predicting ratings helps us recommend nice movies to John!"
   ]
  },
  {
   "cell_type": "code",
   "execution_count": 29,
   "metadata": {
    "collapsed": true
   },
   "outputs": [],
   "source": [
    "def recommend(user_id, top_n=10):\n",
    "    item_ids = range(1, max_item_id)\n",
    "    seen_movies = list(all_ratings[all_ratings[\"user_id\"] == user_id][\"item_id\"])\n",
    "    item_ids = list(filter(lambda x: x not in seen_movies, item_ids))\n",
    "\n",
    "    print(\"user \" + str(user_id) + \" has seen \" + str(len(seen_movies)) + \" movies. \" +\n",
    "          \"Computing ratings for \" + str(len(item_ids)) + \" other movies\")\n",
    "\n",
    "    item_ids = np.array(item_ids)\n",
    "    user = np.zeros_like(item_ids)\n",
    "    user[:] = user_id\n",
    "    items_meta = items[\"scaled_date\"][item_ids].values\n",
    "\n",
    "    rating_preds = model.predict([user, item_ids, items_meta])\n",
    "\n",
    "    item_ids = np.argsort(rating_preds[:, 0])[::-1].tolist()\n",
    "    rec_items = item_ids[:top_n]\n",
    "    return [(items[\"name\"][movie], rating_preds[movie][0]) for movie in rec_items]"
   ]
  },
  {
   "cell_type": "code",
   "execution_count": 42,
   "metadata": {},
   "outputs": [
    {
     "name": "stdout",
     "output_type": "stream",
     "text": [
      "user 404 has seen 44 movies. Computing ratings for 1637 other movies\n",
      "- Miracle on 34th Street (1994) - predicted score: 4.58\n",
      "- Face/Off (1997) - predicted score: 4.57\n",
      "- Assassins (1995) - predicted score: 4.49\n",
      "- Manon of the Spring (Manon des sources) (1986) - predicted score: 4.48\n",
      "- Cold Comfort Farm (1995) - predicted score: 4.47\n",
      "- Jaws 3-D (1983) - predicted score: 4.45\n",
      "- Withnail and I (1987) - predicted score: 4.45\n",
      "- Seven (Se7en) (1995) - predicted score: 4.43\n",
      "- Hoop Dreams (1994) - predicted score: 4.42\n",
      "- Outlaw, The (1943) - predicted score: 4.41\n"
     ]
    }
   ],
   "source": [
    "for recommended_movie in recommend(404):\n",
    "    print('-', recommended_movie[0], '- predicted score:', '%.2f' % recommended_movie[1])"
   ]
  }
 ],
 "metadata": {
  "kernelspec": {
   "display_name": "Python 3",
   "language": "python",
   "name": "python3"
  },
  "language_info": {
   "codemirror_mode": {
    "name": "ipython",
    "version": 3
   },
   "file_extension": ".py",
   "mimetype": "text/x-python",
   "name": "python",
   "nbconvert_exporter": "python",
   "pygments_lexer": "ipython3",
   "version": "3.6.2"
  }
 },
 "nbformat": 4,
 "nbformat_minor": 2
}
