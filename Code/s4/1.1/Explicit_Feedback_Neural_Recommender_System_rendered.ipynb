{
 "cells": [
  {
   "cell_type": "markdown",
   "metadata": {},
   "source": [
    "# Explicit Feedback Neural Recommender Systems\n",
    "\n",
    "Goals:\n",
    "- Understand recommender data\n",
    "- Build different models architectures using Keras\n",
    "- Retrieve Embeddings and visualize them\n",
    "- Add metadata information as input to the model"
   ]
  },
  {
   "cell_type": "code",
   "execution_count": 1,
   "metadata": {},
   "outputs": [],
   "source": [
    "%matplotlib inline\n",
    "import matplotlib.pyplot as plt\n",
    "import numpy as np\n",
    "import os.path as op\n",
    "\n",
    "from zipfile import ZipFile\n",
    "try:\n",
    "    from urllib.request import urlretrieve\n",
    "except ImportError:  # Python 2 compat\n",
    "    from urllib import urlretrieve\n",
    "\n",
    "\n",
    "ML_100K_URL = \"http://files.grouplens.org/datasets/movielens/ml-100k.zip\"\n",
    "ML_100K_FILENAME = ML_100K_URL.rsplit('/', 1)[1]\n",
    "ML_100K_FOLDER = 'ml-100k'\n",
    "\n",
    "if not op.exists(ML_100K_FILENAME):\n",
    "    print('Downloading %s to %s...' % (ML_100K_URL, ML_100K_FILENAME))\n",
    "    urlretrieve(ML_100K_URL, ML_100K_FILENAME)\n",
    "\n",
    "if not op.exists(ML_100K_FOLDER):\n",
    "    print('Extracting %s to %s...' % (ML_100K_FILENAME, ML_100K_FOLDER))\n",
    "    ZipFile(ML_100K_FILENAME).extractall('.')"
   ]
  },
  {
   "cell_type": "markdown",
   "metadata": {},
   "source": [
    "### Ratings file\n",
    "\n",
    "Each line contains a rated movie: \n",
    "- a user\n",
    "- an item\n",
    "- a rating from 1 to 5 stars"
   ]
  },
  {
   "cell_type": "code",
   "execution_count": 2,
   "metadata": {},
   "outputs": [
    {
     "data": {
      "text/html": [
       "<div>\n",
       "<table border=\"1\" class=\"dataframe\">\n",
       "  <thead>\n",
       "    <tr style=\"text-align: right;\">\n",
       "      <th></th>\n",
       "      <th>user_id</th>\n",
       "      <th>item_id</th>\n",
       "      <th>rating</th>\n",
       "      <th>timestamp</th>\n",
       "    </tr>\n",
       "  </thead>\n",
       "  <tbody>\n",
       "    <tr>\n",
       "      <th>0</th>\n",
       "      <td>196</td>\n",
       "      <td>242</td>\n",
       "      <td>3</td>\n",
       "      <td>881250949</td>\n",
       "    </tr>\n",
       "    <tr>\n",
       "      <th>1</th>\n",
       "      <td>186</td>\n",
       "      <td>302</td>\n",
       "      <td>3</td>\n",
       "      <td>891717742</td>\n",
       "    </tr>\n",
       "    <tr>\n",
       "      <th>2</th>\n",
       "      <td>22</td>\n",
       "      <td>377</td>\n",
       "      <td>1</td>\n",
       "      <td>878887116</td>\n",
       "    </tr>\n",
       "    <tr>\n",
       "      <th>3</th>\n",
       "      <td>244</td>\n",
       "      <td>51</td>\n",
       "      <td>2</td>\n",
       "      <td>880606923</td>\n",
       "    </tr>\n",
       "    <tr>\n",
       "      <th>4</th>\n",
       "      <td>166</td>\n",
       "      <td>346</td>\n",
       "      <td>1</td>\n",
       "      <td>886397596</td>\n",
       "    </tr>\n",
       "  </tbody>\n",
       "</table>\n",
       "</div>"
      ],
      "text/plain": [
       "   user_id  item_id  rating  timestamp\n",
       "0      196      242       3  881250949\n",
       "1      186      302       3  891717742\n",
       "2       22      377       1  878887116\n",
       "3      244       51       2  880606923\n",
       "4      166      346       1  886397596"
      ]
     },
     "execution_count": 2,
     "metadata": {},
     "output_type": "execute_result"
    }
   ],
   "source": [
    "import pandas as pd\n",
    "\n",
    "all_ratings = pd.read_csv(op.join(ML_100K_FOLDER, 'u.data'), sep='\\t',\n",
    "                          names=[\"user_id\", \"item_id\", \"rating\", \"timestamp\"])\n",
    "all_ratings.head()"
   ]
  },
  {
   "cell_type": "markdown",
   "metadata": {},
   "source": [
    "### Item metadata file\n",
    "\n",
    "The item metadata file contains metadata like the name of the movie or the date it was released"
   ]
  },
  {
   "cell_type": "code",
   "execution_count": 3,
   "metadata": {},
   "outputs": [
    {
     "data": {
      "text/html": [
       "<div>\n",
       "<table border=\"1\" class=\"dataframe\">\n",
       "  <thead>\n",
       "    <tr style=\"text-align: right;\">\n",
       "      <th></th>\n",
       "      <th>name</th>\n",
       "      <th>date</th>\n",
       "      <th>genre</th>\n",
       "      <th>url</th>\n",
       "      <th>f0</th>\n",
       "      <th>f1</th>\n",
       "      <th>f2</th>\n",
       "      <th>f3</th>\n",
       "      <th>f4</th>\n",
       "      <th>f5</th>\n",
       "      <th>...</th>\n",
       "      <th>f9</th>\n",
       "      <th>f10</th>\n",
       "      <th>f11</th>\n",
       "      <th>f12</th>\n",
       "      <th>f13</th>\n",
       "      <th>f14</th>\n",
       "      <th>f15</th>\n",
       "      <th>f16</th>\n",
       "      <th>f17</th>\n",
       "      <th>f18</th>\n",
       "    </tr>\n",
       "  </thead>\n",
       "  <tbody>\n",
       "    <tr>\n",
       "      <th>1</th>\n",
       "      <td>Toy Story (1995)</td>\n",
       "      <td>01-Jan-1995</td>\n",
       "      <td>01-Jan-1997</td>\n",
       "      <td>http://us.imdb.com/M/title-exact?Toy%20Story%2...</td>\n",
       "      <td>0</td>\n",
       "      <td>0</td>\n",
       "      <td>0</td>\n",
       "      <td>1</td>\n",
       "      <td>1</td>\n",
       "      <td>1</td>\n",
       "      <td>...</td>\n",
       "      <td>0</td>\n",
       "      <td>0</td>\n",
       "      <td>0</td>\n",
       "      <td>0</td>\n",
       "      <td>0</td>\n",
       "      <td>0</td>\n",
       "      <td>0</td>\n",
       "      <td>0</td>\n",
       "      <td>0</td>\n",
       "      <td>0</td>\n",
       "    </tr>\n",
       "    <tr>\n",
       "      <th>2</th>\n",
       "      <td>GoldenEye (1995)</td>\n",
       "      <td>01-Jan-1995</td>\n",
       "      <td>01-Jan-1997</td>\n",
       "      <td>http://us.imdb.com/M/title-exact?GoldenEye%20(...</td>\n",
       "      <td>0</td>\n",
       "      <td>1</td>\n",
       "      <td>1</td>\n",
       "      <td>0</td>\n",
       "      <td>0</td>\n",
       "      <td>0</td>\n",
       "      <td>...</td>\n",
       "      <td>0</td>\n",
       "      <td>0</td>\n",
       "      <td>0</td>\n",
       "      <td>0</td>\n",
       "      <td>0</td>\n",
       "      <td>0</td>\n",
       "      <td>0</td>\n",
       "      <td>1</td>\n",
       "      <td>0</td>\n",
       "      <td>0</td>\n",
       "    </tr>\n",
       "    <tr>\n",
       "      <th>3</th>\n",
       "      <td>Four Rooms (1995)</td>\n",
       "      <td>01-Jan-1995</td>\n",
       "      <td>01-Jan-1997</td>\n",
       "      <td>http://us.imdb.com/M/title-exact?Four%20Rooms%...</td>\n",
       "      <td>0</td>\n",
       "      <td>0</td>\n",
       "      <td>0</td>\n",
       "      <td>0</td>\n",
       "      <td>0</td>\n",
       "      <td>0</td>\n",
       "      <td>...</td>\n",
       "      <td>0</td>\n",
       "      <td>0</td>\n",
       "      <td>0</td>\n",
       "      <td>0</td>\n",
       "      <td>0</td>\n",
       "      <td>0</td>\n",
       "      <td>0</td>\n",
       "      <td>1</td>\n",
       "      <td>0</td>\n",
       "      <td>0</td>\n",
       "    </tr>\n",
       "    <tr>\n",
       "      <th>4</th>\n",
       "      <td>Get Shorty (1995)</td>\n",
       "      <td>01-Jan-1995</td>\n",
       "      <td>01-Jan-1997</td>\n",
       "      <td>http://us.imdb.com/M/title-exact?Get%20Shorty%...</td>\n",
       "      <td>0</td>\n",
       "      <td>1</td>\n",
       "      <td>0</td>\n",
       "      <td>0</td>\n",
       "      <td>0</td>\n",
       "      <td>1</td>\n",
       "      <td>...</td>\n",
       "      <td>0</td>\n",
       "      <td>0</td>\n",
       "      <td>0</td>\n",
       "      <td>0</td>\n",
       "      <td>0</td>\n",
       "      <td>0</td>\n",
       "      <td>0</td>\n",
       "      <td>0</td>\n",
       "      <td>0</td>\n",
       "      <td>0</td>\n",
       "    </tr>\n",
       "    <tr>\n",
       "      <th>5</th>\n",
       "      <td>Copycat (1995)</td>\n",
       "      <td>01-Jan-1995</td>\n",
       "      <td>01-Jan-1997</td>\n",
       "      <td>http://us.imdb.com/M/title-exact?Copycat%20(1995)</td>\n",
       "      <td>0</td>\n",
       "      <td>0</td>\n",
       "      <td>0</td>\n",
       "      <td>0</td>\n",
       "      <td>0</td>\n",
       "      <td>0</td>\n",
       "      <td>...</td>\n",
       "      <td>0</td>\n",
       "      <td>0</td>\n",
       "      <td>0</td>\n",
       "      <td>0</td>\n",
       "      <td>0</td>\n",
       "      <td>0</td>\n",
       "      <td>0</td>\n",
       "      <td>1</td>\n",
       "      <td>0</td>\n",
       "      <td>0</td>\n",
       "    </tr>\n",
       "  </tbody>\n",
       "</table>\n",
       "<p>5 rows × 23 columns</p>\n",
       "</div>"
      ],
      "text/plain": [
       "                name         date        genre  \\\n",
       "1   Toy Story (1995)  01-Jan-1995  01-Jan-1997   \n",
       "2   GoldenEye (1995)  01-Jan-1995  01-Jan-1997   \n",
       "3  Four Rooms (1995)  01-Jan-1995  01-Jan-1997   \n",
       "4  Get Shorty (1995)  01-Jan-1995  01-Jan-1997   \n",
       "5     Copycat (1995)  01-Jan-1995  01-Jan-1997   \n",
       "\n",
       "                                                 url  f0  f1  f2  f3  f4  f5  \\\n",
       "1  http://us.imdb.com/M/title-exact?Toy%20Story%2...   0   0   0   1   1   1   \n",
       "2  http://us.imdb.com/M/title-exact?GoldenEye%20(...   0   1   1   0   0   0   \n",
       "3  http://us.imdb.com/M/title-exact?Four%20Rooms%...   0   0   0   0   0   0   \n",
       "4  http://us.imdb.com/M/title-exact?Get%20Shorty%...   0   1   0   0   0   1   \n",
       "5  http://us.imdb.com/M/title-exact?Copycat%20(1995)   0   0   0   0   0   0   \n",
       "\n",
       "  ...   f9  f10  f11  f12  f13  f14  f15  f16  f17  f18  \n",
       "1 ...    0    0    0    0    0    0    0    0    0    0  \n",
       "2 ...    0    0    0    0    0    0    0    1    0    0  \n",
       "3 ...    0    0    0    0    0    0    0    1    0    0  \n",
       "4 ...    0    0    0    0    0    0    0    0    0    0  \n",
       "5 ...    0    0    0    0    0    0    0    1    0    0  \n",
       "\n",
       "[5 rows x 23 columns]"
      ]
     },
     "execution_count": 3,
     "metadata": {},
     "output_type": "execute_result"
    }
   ],
   "source": [
    "names = [\"name\", \"date\", \"genre\", \"url\"]\n",
    "names += [\"f\" + str(x) for x in range(19)]  # unused feature names\n",
    "\n",
    "items = pd.read_csv(op.join(ML_100K_FOLDER, 'u.item'), sep='|', encoding='latin-1',\n",
    "                    names=names)\n",
    "# fix a missing value\n",
    "items.fillna(value=\"01-Jan-1997\", inplace=True)\n",
    "items.head()"
   ]
  },
  {
   "cell_type": "markdown",
   "metadata": {},
   "source": [
    "### Data preprocessing\n",
    "\n",
    "To understand well the distribution of the data, the following statistics are computed:\n",
    "- the number of users\n",
    "- the number of items\n",
    "- the rating distribution"
   ]
  },
  {
   "cell_type": "code",
   "execution_count": 4,
   "metadata": {},
   "outputs": [
    {
     "data": {
      "text/plain": [
       "count    100000.000000\n",
       "mean          3.529860\n",
       "std           1.125674\n",
       "min           1.000000\n",
       "25%           3.000000\n",
       "50%           4.000000\n",
       "75%           4.000000\n",
       "max           5.000000\n",
       "Name: rating, dtype: float64"
      ]
     },
     "execution_count": 4,
     "metadata": {},
     "output_type": "execute_result"
    }
   ],
   "source": [
    "all_ratings['rating'].describe()"
   ]
  },
  {
   "cell_type": "code",
   "execution_count": 5,
   "metadata": {},
   "outputs": [
    {
     "data": {
      "text/plain": [
       "943"
      ]
     },
     "execution_count": 5,
     "metadata": {},
     "output_type": "execute_result"
    }
   ],
   "source": [
    "max_user_id = all_ratings['user_id'].max()\n",
    "max_user_id"
   ]
  },
  {
   "cell_type": "code",
   "execution_count": 6,
   "metadata": {},
   "outputs": [
    {
     "data": {
      "text/plain": [
       "1682"
      ]
     },
     "execution_count": 6,
     "metadata": {},
     "output_type": "execute_result"
    }
   ],
   "source": [
    "max_item_id = all_ratings['item_id'].max()\n",
    "max_item_id"
   ]
  },
  {
   "cell_type": "code",
   "execution_count": 7,
   "metadata": {},
   "outputs": [],
   "source": [
    "from sklearn.model_selection import train_test_split\n",
    "\n",
    "ratings_train, ratings_test = train_test_split(\n",
    "    all_ratings, test_size=0.2, random_state=0)\n",
    "\n",
    "user_id_train = ratings_train['user_id']\n",
    "item_id_train = ratings_train['item_id']\n",
    "rating_train = ratings_train['rating']\n",
    "\n",
    "user_id_test = ratings_test['user_id']\n",
    "item_id_test = ratings_test['item_id']\n",
    "rating_test = ratings_test['rating']"
   ]
  },
  {
   "cell_type": "markdown",
   "metadata": {},
   "source": [
    "# Explicit feedback: supervised ratings prediction\n",
    "\n",
    "For each pair of (user, item) try to predict the rating the user would give to the item.\n",
    "\n",
    "This is the classical setup for building recommender systems from offline data with explicit supervision signal. "
   ]
  },
  {
   "cell_type": "markdown",
   "metadata": {},
   "source": [
    "## Predictive ratings  as a regression problem\n",
    "\n",
    "The following code implements the following architecture:\n",
    "\n",
    "<img src=\"images/rec_archi_1.svg\" style=\"width: 600px;\" />"
   ]
  },
  {
   "cell_type": "code",
   "execution_count": 8,
   "metadata": {},
   "outputs": [
    {
     "name": "stderr",
     "output_type": "stream",
     "text": [
      "Using TensorFlow backend.\n"
     ]
    }
   ],
   "source": [
    "from keras.layers import Input, Embedding, Flatten, merge, Dense, Dropout, Lambda\n",
    "from keras.models import Model\n",
    "import keras.backend as K\n",
    "from keras_fixes import dot_mode"
   ]
  },
  {
   "cell_type": "code",
   "execution_count": 9,
   "metadata": {},
   "outputs": [],
   "source": [
    "# For each sample we input the integer identifiers\n",
    "# of a single user and a single item\n",
    "user_id_input = Input(shape=[1], name='user')\n",
    "item_id_input = Input(shape=[1], name='item')\n",
    "\n",
    "embedding_size = 30\n",
    "user_embedding = Embedding(output_dim=embedding_size, input_dim=max_user_id + 1,\n",
    "                           input_length=1, name='user_embedding')(user_id_input)\n",
    "item_embedding = Embedding(output_dim=embedding_size, input_dim=max_item_id + 1,\n",
    "                           input_length=1, name='item_embedding')(item_id_input)\n",
    "\n",
    "# reshape from shape: (batch_size, input_length, embedding_size)\n",
    "# to shape: (batch_size, input_length * embedding_size) which is\n",
    "# equal to shape: (batch_size, embedding_size)\n",
    "user_vecs = Flatten()(user_embedding)\n",
    "item_vecs = Flatten()(item_embedding)\n",
    "\n",
    "y = merge([user_vecs, item_vecs], mode=dot_mode, output_shape=(1,))\n",
    "\n",
    "model = Model(input=[user_id_input, item_id_input], output=y)\n",
    "model.compile(optimizer='adam', loss='mae')"
   ]
  },
  {
   "cell_type": "code",
   "execution_count": 10,
   "metadata": {},
   "outputs": [
    {
     "data": {
      "text/plain": [
       "(80000,)"
      ]
     },
     "execution_count": 10,
     "metadata": {},
     "output_type": "execute_result"
    }
   ],
   "source": [
    "# Useful for debugging the output shape of model\n",
    "initial_train_preds = model.predict([user_id_train, item_id_train])\n",
    "initial_train_preds.shape"
   ]
  },
  {
   "cell_type": "markdown",
   "metadata": {},
   "source": [
    "### Model error\n",
    "\n",
    "Using `initial_train_preds`, compute the model errors:\n",
    "- mean absolute error\n",
    "- mean squared error\n",
    "\n",
    "Converting a pandas Series to numpy array is usually implicit, but you may use `rating_train.values` to do so explicitely. Be sure to monitor the shapes of each object you deal with by using `object.shape`."
   ]
  },
  {
   "cell_type": "code",
   "execution_count": null,
   "metadata": {
    "collapsed": true
   },
   "outputs": [],
   "source": []
  },
  {
   "cell_type": "code",
   "execution_count": 11,
   "metadata": {},
   "outputs": [
    {
     "name": "stdout",
     "output_type": "stream",
     "text": [
      "Random init MSE: 13.732\n",
      "Random init MAE: 3.531\n"
     ]
    }
   ],
   "source": [
    "# %load solutions/compute_errors.py\n",
    "squared_differences = np.square(initial_train_preds - rating_train.values)\n",
    "absolute_differences = np.abs(initial_train_preds - rating_train.values)\n",
    "\n",
    "print(\"Random init MSE: %0.3f\" % np.mean(squared_differences))\n",
    "print(\"Random init MAE: %0.3f\" % np.mean(absolute_differences))\n",
    "\n",
    "# You may also use sklearn metrics to do so with less numpy engineering \n",
    "#from sklearn.metrics import mean_squared_error, mean_absolute_error\n",
    "#\n",
    "#print(\"Random init MSE: %0.3f\" % mean_squared_error(initial_train_preds, rating_train))\n",
    "#print(\"Random init MAE: %0.3f\" % mean_absolute_error(initial_train_preds, rating_train))\n"
   ]
  },
  {
   "cell_type": "markdown",
   "metadata": {},
   "source": [
    "### Monitoring runs\n",
    "\n",
    "Keras enables to monitor various variables during training. \n",
    "\n",
    "`history.history` returned by the `model.fit` function is a dictionary\n",
    "containing the `'loss'` and validation loss `'val_loss'` after each epoch"
   ]
  },
  {
   "cell_type": "code",
   "execution_count": 12,
   "metadata": {},
   "outputs": [
    {
     "name": "stdout",
     "output_type": "stream",
     "text": [
      "Train on 72000 samples, validate on 8000 samples\n",
      "Epoch 1/6\n",
      "1s - loss: 2.9793 - val_loss: 1.5083\n",
      "Epoch 2/6\n",
      "1s - loss: 1.1274 - val_loss: 0.9971\n",
      "Epoch 3/6\n",
      "1s - loss: 0.9474 - val_loss: 0.9486\n",
      "Epoch 4/6\n",
      "1s - loss: 0.9212 - val_loss: 0.9343\n",
      "Epoch 5/6\n",
      "1s - loss: 0.9126 - val_loss: 0.9293\n",
      "Epoch 6/6\n",
      "1s - loss: 0.9088 - val_loss: 0.9263\n",
      "CPU times: user 22 s, sys: 2.21 s, total: 24.2 s\n",
      "Wall time: 9.66 s\n"
     ]
    }
   ],
   "source": [
    "%%time\n",
    "\n",
    "# Training the model\n",
    "history = model.fit([user_id_train, item_id_train], rating_train,\n",
    "                    batch_size=64, nb_epoch=6, validation_split=0.1,\n",
    "                    shuffle=True, verbose=2)"
   ]
  },
  {
   "cell_type": "code",
   "execution_count": 13,
   "metadata": {},
   "outputs": [
    {
     "data": {
      "image/png": "[encoded data removed]",
      "text/plain": [
       "<matplotlib.figure.Figure at 0x7faa98afa358>"
      ]
     },
     "metadata": {},
     "output_type": "display_data"
    }
   ],
   "source": [
    "plt.plot(history.history['loss'], label='train')\n",
    "plt.plot(history.history['val_loss'], label='validation')\n",
    "plt.ylim(0, 2)\n",
    "plt.legend(loc='best')\n",
    "plt.title('Loss');"
   ]
  },
  {
   "cell_type": "markdown",
   "metadata": {},
   "source": [
    "Now that the model is trained, the model MSE and MAE look nicer:"
   ]
  },
  {
   "cell_type": "code",
   "execution_count": 14,
   "metadata": {},
   "outputs": [
    {
     "name": "stdout",
     "output_type": "stream",
     "text": [
      "Final test MSE: 1.412\n",
      "Final test MAE: 0.896\n"
     ]
    }
   ],
   "source": [
    "from sklearn.metrics import mean_squared_error\n",
    "from sklearn.metrics import mean_absolute_error\n",
    "\n",
    "test_preds = model.predict([user_id_test, item_id_test])\n",
    "print(\"Final test MSE: %0.3f\" % mean_squared_error(test_preds, rating_test))\n",
    "print(\"Final test MAE: %0.3f\" % mean_absolute_error(test_preds, rating_test))"
   ]
  },
  {
   "cell_type": "code",
   "execution_count": 15,
   "metadata": {},
   "outputs": [
    {
     "name": "stdout",
     "output_type": "stream",
     "text": [
      "Final train MSE: 1.407\n",
      "Final train MAE: 0.898\n"
     ]
    }
   ],
   "source": [
    "train_preds = model.predict([user_id_train, item_id_train])\n",
    "print(\"Final train MSE: %0.3f\" % mean_squared_error(train_preds, rating_train))\n",
    "print(\"Final train MAE: %0.3f\" % mean_absolute_error(train_preds, rating_train))"
   ]
  },
  {
   "cell_type": "markdown",
   "metadata": {},
   "source": [
    "## A Deep recommender model\n",
    "\n",
    "Using a similar framework as previously, the following deep model described in the course was built (with only two fully connected)\n",
    "\n",
    "<img src=\"images/rec_archi_2.svg\" style=\"width: 600px;\" />\n",
    "\n",
    "\n",
    "### Exercise\n",
    "\n",
    "- The following code has **4 errors** that prevent it from working correctly. **Correct them and explain** why they are critical."
   ]
  },
  {
   "cell_type": "code",
   "execution_count": 16,
   "metadata": {},
   "outputs": [],
   "source": [
    "# For each sample we input the integer identifiers\n",
    "# of a single user and a single item\n",
    "user_id_input = Input(shape=[1], name='user')\n",
    "item_id_input = Input(shape=[1], name='item')\n",
    "\n",
    "embedding_size = 30\n",
    "user_embedding = Embedding(output_dim=embedding_size, input_dim=max_user_id + 1,\n",
    "                           input_length=1, name='user_embedding')(user_id_input)\n",
    "item_embedding = Embedding(output_dim=embedding_size, input_dim=max_item_id + 1,\n",
    "                           input_length=1, name='item_embedding')(item_id_input)\n",
    "\n",
    "# reshape from shape: (batch_size, input_length, embedding_size)\n",
    "# to shape: (batch_size, input_length * embedding_size) which is\n",
    "# equal to shape: (batch_size, embedding_size)\n",
    "user_vecs = Flatten()(user_embedding)\n",
    "item_vecs = Flatten()(item_embedding)\n",
    "\n",
    "input_vecs = merge([user_vecs, item_vecs], mode='concat')\n",
    "input_vecs = Dropout(0.99)(input_vecs)\n",
    "\n",
    "x = Dense(64, activation='relu')(input_vecs)\n",
    "y = Dense(2, activation='tanh')(x)\n",
    "\n",
    "model = Model(input=[user_id_input, item_id_input], output=y)\n",
    "model.compile(optimizer='adam', loss='binary_crossentropy')\n",
    "\n",
    "initial_train_preds = model.predict([user_id_train, item_id_train])"
   ]
  },
  {
   "cell_type": "code",
   "execution_count": 17,
   "metadata": {
    "collapsed": true
   },
   "outputs": [],
   "source": [
    "# %load solutions/deep_explicit_feedback_recsys.py\n",
    "# For each sample we input the integer identifiers\n",
    "# of a single user and a single item\n",
    "user_id_input = Input(shape=[1], name='user')\n",
    "item_id_input = Input(shape=[1], name='item')\n",
    "\n",
    "embedding_size = 30\n",
    "user_embedding = Embedding(output_dim=embedding_size, input_dim=max_user_id + 1,\n",
    "                           input_length=1, name='user_embedding')(user_id_input)\n",
    "item_embedding = Embedding(output_dim=embedding_size, input_dim=max_item_id + 1,\n",
    "                           input_length=1, name='item_embedding')(item_id_input)\n",
    "\n",
    "# reshape from shape: (batch_size, input_length, embedding_size)\n",
    "# to shape: (batch_size, input_length * embedding_size) which is\n",
    "# equal to shape: (batch_size, embedding_size)\n",
    "user_vecs = Flatten()(user_embedding)\n",
    "item_vecs = Flatten()(item_embedding)\n",
    "\n",
    "input_vecs = merge([user_vecs, item_vecs], mode='concat')\n",
    "## Error 1: Dropout was too high, preventing any training\n",
    "input_vecs = Dropout(0.5)(input_vecs)\n",
    "\n",
    "x = Dense(64, activation='relu')(input_vecs)\n",
    "\n",
    "## Error 2: output dimension was 2 where we predict only 1-d rating\n",
    "## Error 3: tanh activation squashes the outputs between -1 and 1\n",
    "## when we want to predict values between 1 and 5\n",
    "y = Dense(1)(x)\n",
    "\n",
    "model = Model(input=[user_id_input, item_id_input], output=y)\n",
    "## Error 4: A binary crossentropy loss is only useful for binary\n",
    "## classification, while we are in regression (use mse or mae)\n",
    "model.compile(optimizer='adam', loss='mae')\n",
    "\n",
    "initial_train_preds = model.predict([user_id_train, item_id_train])\n"
   ]
  },
  {
   "cell_type": "code",
   "execution_count": 18,
   "metadata": {},
   "outputs": [
    {
     "name": "stdout",
     "output_type": "stream",
     "text": [
      "Train on 72000 samples, validate on 8000 samples\n",
      "Epoch 1/5\n",
      "2s - loss: 1.0275 - val_loss: 0.7657\n",
      "Epoch 2/5\n",
      "2s - loss: 0.7526 - val_loss: 0.7529\n",
      "Epoch 3/5\n",
      "2s - loss: 0.7373 - val_loss: 0.7498\n",
      "Epoch 4/5\n",
      "2s - loss: 0.7312 - val_loss: 0.7535\n",
      "Epoch 5/5\n",
      "2s - loss: 0.7247 - val_loss: 0.7448\n",
      "CPU times: user 22.3 s, sys: 1.76 s, total: 24.1 s\n",
      "Wall time: 10.7 s\n"
     ]
    }
   ],
   "source": [
    "%%time\n",
    "history = model.fit([user_id_train, item_id_train], rating_train,\n",
    "                    batch_size=64, nb_epoch=5, validation_split=0.1,\n",
    "                    shuffle=True, verbose=2)"
   ]
  },
  {
   "cell_type": "code",
   "execution_count": 19,
   "metadata": {},
   "outputs": [
    {
     "data": {
      "image/png": "[encoded data removed]",
      "text/plain": [
       "<matplotlib.figure.Figure at 0x7faa90bff780>"
      ]
     },
     "metadata": {},
     "output_type": "display_data"
    }
   ],
   "source": [
    "plt.plot(history.history['loss'], label='train')\n",
    "plt.plot(history.history['val_loss'], label='validation')\n",
    "plt.ylim(0, 2)\n",
    "plt.legend(loc='best')\n",
    "plt.title('Loss');"
   ]
  },
  {
   "cell_type": "code",
   "execution_count": 20,
   "metadata": {},
   "outputs": [
    {
     "name": "stdout",
     "output_type": "stream",
     "text": [
      "Final test MSE: 0.930\n",
      "Final test MAE: 0.730\n"
     ]
    }
   ],
   "source": [
    "test_preds = model.predict([user_id_test, item_id_test])\n",
    "print(\"Final test MSE: %0.3f\" % mean_squared_error(test_preds, rating_test))\n",
    "print(\"Final test MAE: %0.3f\" % mean_absolute_error(test_preds, rating_test))"
   ]
  },
  {
   "cell_type": "code",
   "execution_count": 21,
   "metadata": {},
   "outputs": [
    {
     "name": "stdout",
     "output_type": "stream",
     "text": [
      "Final train MSE: 0.870\n",
      "Final train MAE: 0.699\n"
     ]
    }
   ],
   "source": [
    "train_preds = model.predict([user_id_train, item_id_train])\n",
    "print(\"Final train MSE: %0.3f\" % mean_squared_error(train_preds, rating_train))\n",
    "print(\"Final train MAE: %0.3f\" % mean_absolute_error(train_preds, rating_train))"
   ]
  },
  {
   "cell_type": "markdown",
   "metadata": {},
   "source": [
    "### Home assignment: \n",
    " - Add another layer, compare train/test error\n",
    " - What do you notice? \n",
    " - Try adding more dropout and modifying layer sizes: should you increase\n",
    "   or decrease the number of parameters"
   ]
  },
  {
   "cell_type": "markdown",
   "metadata": {},
   "source": [
    "### Model Embeddings\n",
    "\n",
    "- It is possible to retrieve the embeddings by simply using the Keras function `model.get_weights` which returns all the model learnable parameters.\n",
    "- The weights are returned the same order as they were build in the model\n",
    "- What is the total number of parameters?"
   ]
  },
  {
   "cell_type": "code",
   "execution_count": 22,
   "metadata": {},
   "outputs": [
    {
     "data": {
      "text/plain": [
       "[(944, 30), (1683, 30), (60, 64), (64,), (64, 1), (1,)]"
      ]
     },
     "execution_count": 22,
     "metadata": {},
     "output_type": "execute_result"
    }
   ],
   "source": [
    "# weights and shape\n",
    "weights = model.get_weights()\n",
    "[w.shape for w in weights]"
   ]
  },
  {
   "cell_type": "code",
   "execution_count": 23,
   "metadata": {},
   "outputs": [],
   "source": [
    "# Solution: \n",
    "# model.summary()"
   ]
  },
  {
   "cell_type": "code",
   "execution_count": 24,
   "metadata": {},
   "outputs": [
    {
     "name": "stdout",
     "output_type": "stream",
     "text": [
      "First item name from metadata: Toy Story (1995)\n",
      "Embedding vector for the first item:\n",
      "[ 0.06656966 -0.11037975 -0.10096616  0.04138852 -0.05465755 -0.06664473\n",
      " -0.05834128 -0.02316108  0.11232883 -0.08162     0.00034907  0.03863313\n",
      "  0.07503467 -0.038852    0.03839659 -0.09521606  0.08333123  0.09592038\n",
      " -0.07425836 -0.00616984 -0.10561048  0.07732547  0.08328027 -0.03731563\n",
      " -0.12221446  0.05361582 -0.07965651  0.08811148 -0.03541961  0.0378662 ]\n",
      "shape: (30,)\n"
     ]
    }
   ],
   "source": [
    "user_embeddings = weights[0]\n",
    "item_embeddings = weights[1]\n",
    "print(\"First item name from metadata:\", items[\"name\"][1])\n",
    "print(\"Embedding vector for the first item:\")\n",
    "print(item_embeddings[1])\n",
    "print(\"shape:\", item_embeddings[1].shape)"
   ]
  },
  {
   "cell_type": "markdown",
   "metadata": {},
   "source": [
    "### Finding most similar items\n",
    "Finding k most similar items to a point in embedding space\n",
    "\n",
    "- Write in numpy a function to compute the cosine similarity between two points in embedding space\n",
    "- Write a function which computes the euclidean distance between a point in embedding space and all other points\n",
    "- Write a most similar function, which returns the k item names with lowest euclidean distance\n",
    "- Try with a movie index, such as 181 (Return of the Jedi). What do you observe? Don't expect miracles on such a small training set.\n",
    "\n",
    "Notes:\n",
    "- you may use `np.linalg.norm` to compute the norm of vector, and you may specify the `axis=`\n",
    "- the numpy function `np.argsort(...)` enables to compute the sorted indices of a vector\n",
    "- `items[\"name\"][idxs]` returns the names of the items indexed by array idxs"
   ]
  },
  {
   "cell_type": "code",
   "execution_count": 25,
   "metadata": {},
   "outputs": [
    {
     "data": {
      "text/plain": [
       "1     Toy Story (1995)\n",
       "2     GoldenEye (1995)\n",
       "3    Four Rooms (1995)\n",
       "Name: name, dtype: object"
      ]
     },
     "execution_count": 25,
     "metadata": {},
     "output_type": "execute_result"
    }
   ],
   "source": [
    "EPSILON = 1e-07\n",
    "\n",
    "def cosine(x, y):\n",
    "    # TODO: modify function\n",
    "    return 0.\n",
    "\n",
    "# Computes euclidean distances between x and all item embeddings\n",
    "def euclidean_distances(x):\n",
    "    # TODO: modify function\n",
    "    return 0.\n",
    "\n",
    "# Computes top_n most similar items to an idx\n",
    "def most_similar(idx, top_n=10):\n",
    "    # TODO: modify function\n",
    "    idxs = np.array([1,2,3])\n",
    "    return items[\"name\"][idxs]\n",
    "\n",
    "most_similar(181)"
   ]
  },
  {
   "cell_type": "code",
   "execution_count": 26,
   "metadata": {},
   "outputs": [
    {
     "name": "stdout",
     "output_type": "stream",
     "text": [
      "cosine of item 1 and item 1: 0.99999937543\n",
      "(1683,)\n",
      "[ 0.          0.42952365  0.54374003  0.36132884]\n",
      "\n",
      "Items closest to 'Return of the Jedi':\n",
      "Return of the Jedi (1983) 0.0\n",
      "Marlene Dietrich: Shadow and Light (1996)  0.198019\n",
      "Big Night (1996) 0.206246\n",
      "Great Day in Harlem, A (1994) 0.210658\n",
      "Dead Poets Society (1989) 0.224183\n",
      "Spanish Prisoner, The (1997) 0.235339\n",
      "Object of My Affection, The (1998) 0.238797\n",
      "Hoop Dreams (1994) 0.241199\n",
      "Bridge on the River Kwai, The (1957) 0.241458\n",
      "Terminator 2: Judgment Day (1991) 0.243554\n"
     ]
    }
   ],
   "source": [
    "# %load solutions/similarity.py\n",
    "EPSILON = 1e-07\n",
    "\n",
    "def cosine(x, y):\n",
    "    dot_pdt = np.dot(x, y.T)\n",
    "    norms = np.linalg.norm(x) * np.linalg.norm(y)\n",
    "    return dot_pdt / (norms + EPSILON)\n",
    "\n",
    "# Computes cosine similarities between x and all item embeddings\n",
    "def cosine_similarities(x):\n",
    "    dot_pdts = np.dot(item_embeddings, x)\n",
    "    norms = np.linalg.norm(x) * np.linalg.norm(item_embeddings, axis=1)\n",
    "    return dot_pdts / (norms + EPSILON)\n",
    "\n",
    "# Computes euclidean distances between x and all item embeddings\n",
    "def euclidean_distances(x):\n",
    "    return np.linalg.norm(item_embeddings - x, axis=1)\n",
    "\n",
    "# Computes top_n most similar items to an idx, \n",
    "def most_similar(idx, top_n=10, mode='euclidean'):\n",
    "    sorted_indexes=0\n",
    "    if mode=='euclidean':\n",
    "        dists = euclidean_distances(item_embeddings[idx])\n",
    "        sorted_indexes = np.argsort(dists)\n",
    "        idxs = sorted_indexes[0:top_n]\n",
    "        return list(zip(items[\"name\"][idxs], dists[idxs]))\n",
    "    else:\n",
    "        sims = cosine_similarities(item_embeddings[idx])\n",
    "        # [::-1] makes it possible to reverse the order of a numpy\n",
    "        # array, this is required because most similar items have\n",
    "        # a larger cosine similarity value\n",
    "        sorted_indexes = np.argsort(sims)[::-1]\n",
    "        idxs = sorted_indexes[0:top_n]\n",
    "        return list(zip(items[\"name\"][idxs], sims[idxs]))\n",
    "\n",
    "# sanity checks:\n",
    "print(\"cosine of item 1 and item 1: \"\n",
    "      + str(cosine(item_embeddings[1], item_embeddings[1])))\n",
    "euc_dists = euclidean_distances(item_embeddings[1])\n",
    "print(euc_dists.shape)\n",
    "print(euc_dists[1:5])\n",
    "print()\n",
    "\n",
    "# Test on movie 181: Return of the Jedi\n",
    "print(\"Items closest to 'Return of the Jedi':\")\n",
    "for title, dist in most_similar(181, mode=\"euclidean\"):\n",
    "    print(title, dist)\n",
    "\n",
    "\n",
    "# We observe that the embedding is poor at representing similarities\n",
    "# between movies, as most distance/similarities are very small/big \n",
    "# One may notice a few clusters though\n",
    "# it's interesting to plot the following distributions\n",
    "# plt.hist(euc_dists)\n",
    "\n",
    "# The reason for that is that the number of ratings is low and the embedding\n",
    "# does not automatically capture semantic relationships in that context. \n",
    "# Better representations arise with higher number of ratings, and less overfitting models\n"
   ]
  },
  {
   "cell_type": "markdown",
   "metadata": {},
   "source": [
    "### Visualizing embeddings using TSNE\n",
    "\n",
    "- we use scikit learn to visualize items embeddings\n",
    "- Try different perplexities, and visualize user embeddings as well\n",
    "- What can you conclude ?"
   ]
  },
  {
   "cell_type": "code",
   "execution_count": 27,
   "metadata": {
    "collapsed": true
   },
   "outputs": [],
   "source": [
    "from sklearn.manifold import TSNE\n",
    "\n",
    "item_tsne = TSNE(perplexity=30).fit_transform(item_embeddings)"
   ]
  },
  {
   "cell_type": "code",
   "execution_count": 28,
   "metadata": {},
   "outputs": [
    {
     "data": {
      "image/png": "[encoded data removed]",
      "text/plain": [
       "<matplotlib.figure.Figure at 0x7faa906e90b8>"
      ]
     },
     "metadata": {},
     "output_type": "display_data"
    }
   ],
   "source": [
    "import matplotlib.pyplot as plt\n",
    "\n",
    "plt.figure(figsize=(10, 10))\n",
    "plt.scatter(item_tsne[:, 0], item_tsne[:, 1]);\n",
    "plt.xticks(()); plt.yticks(());\n",
    "plt.show()"
   ]
  },
  {
   "cell_type": "markdown",
   "metadata": {},
   "source": [
    "## Using item metadata in the model\n",
    "\n",
    "Using a similar framework as previously, we will build another deep model that can also leverage additional metadata. The resulting system is therefore an **Hybrid Recommender System** that does both **Collaborative Filtering** and **Content-based recommendations**.\n",
    "\n",
    "<img src=\"images/rec_archi_3.svg\" style=\"width: 600px;\" />\n"
   ]
  },
  {
   "cell_type": "code",
   "execution_count": 29,
   "metadata": {},
   "outputs": [
    {
     "data": {
      "text/plain": [
       "(80000, 20000)"
      ]
     },
     "execution_count": 29,
     "metadata": {},
     "output_type": "execute_result"
    }
   ],
   "source": [
    "# transform the date (string) into an int representing the release year\n",
    "parsed_dates = [int(film_date[-4:])\n",
    "                for film_date in items[\"date\"].tolist()]\n",
    "\n",
    "items['parsed_date'] = pd.Series(parsed_dates, index=items.index)\n",
    "max_date = max(items['parsed_date'])\n",
    "min_date = min(items['parsed_date'])\n",
    "\n",
    "from sklearn.preprocessing import scale\n",
    "\n",
    "items['scaled_date'] = scale(items['parsed_date'].astype('float64'))\n",
    "item_meta_train = items[\"scaled_date\"][item_id_train]\n",
    "item_meta_test = items[\"scaled_date\"][item_id_test]\n",
    "\n",
    "len(item_meta_train), len(item_meta_test)"
   ]
  },
  {
   "cell_type": "code",
   "execution_count": 30,
   "metadata": {},
   "outputs": [
    {
     "data": {
      "text/plain": [
       "count    1.682000e+03\n",
       "mean    -2.129094e-15\n",
       "std      1.000297e+00\n",
       "min     -4.730390e+00\n",
       "25%      2.533563e-01\n",
       "50%      3.937435e-01\n",
       "75%      4.639372e-01\n",
       "max      6.043244e-01\n",
       "Name: scaled_date, dtype: float64"
      ]
     },
     "execution_count": 30,
     "metadata": {},
     "output_type": "execute_result"
    }
   ],
   "source": [
    "items[\"scaled_date\"].describe()"
   ]
  },
  {
   "cell_type": "code",
   "execution_count": 31,
   "metadata": {},
   "outputs": [],
   "source": [
    "# For each sample we input the integer identifiers\n",
    "# of a single user and a single item\n",
    "user_id_input = Input(shape=[1], name='user')\n",
    "item_id_input = Input(shape=[1], name='item')\n",
    "meta_input = Input(shape=[1], name='meta_item')\n",
    "\n",
    "embedding_size = 32\n",
    "user_embedding = Embedding(output_dim=embedding_size, input_dim=max_user_id + 1,\n",
    "                           input_length=1, name='user_embedding')(user_id_input)\n",
    "item_embedding = Embedding(output_dim=embedding_size, input_dim=max_item_id + 1,\n",
    "                           input_length=1, name='item_embedding')(item_id_input)\n",
    "\n",
    "\n",
    "# reshape from shape: (batch_size, input_length, embedding_size)\n",
    "# to shape: (batch_size, input_length * embedding_size) which is\n",
    "# equal to shape: (batch_size, embedding_size)\n",
    "user_vecs = Flatten()(user_embedding)\n",
    "item_vecs = Flatten()(item_embedding)\n",
    "\n",
    "input_vecs = merge([user_vecs, item_vecs, meta_input], mode='concat')\n",
    "\n",
    "x = Dense(64, activation='relu')(input_vecs)\n",
    "x = Dropout(0.5)(x)\n",
    "x = Dense(32, activation='relu')(x)\n",
    "y = Dense(1)(x)\n",
    "\n",
    "model = Model(input=[user_id_input, item_id_input, meta_input], output=y)\n",
    "model.compile(optimizer='adam', loss='mae')\n",
    "\n",
    "initial_train_preds = model.predict([user_id_train, item_id_train, item_meta_train])"
   ]
  },
  {
   "cell_type": "code",
   "execution_count": 32,
   "metadata": {},
   "outputs": [
    {
     "name": "stdout",
     "output_type": "stream",
     "text": [
      "Train on 72000 samples, validate on 8000 samples\n",
      "Epoch 1/15\n",
      "2s - loss: 0.9585 - val_loss: 0.7708\n",
      "Epoch 2/15\n",
      "2s - loss: 0.7618 - val_loss: 0.7567\n",
      "Epoch 3/15\n",
      "2s - loss: 0.7345 - val_loss: 0.7486\n",
      "Epoch 4/15\n",
      "2s - loss: 0.7149 - val_loss: 0.7369\n",
      "Epoch 5/15\n",
      "2s - loss: 0.6984 - val_loss: 0.7341\n",
      "Epoch 6/15\n",
      "2s - loss: 0.6866 - val_loss: 0.7320\n",
      "Epoch 7/15\n",
      "2s - loss: 0.6765 - val_loss: 0.7260\n",
      "Epoch 8/15\n",
      "2s - loss: 0.6686 - val_loss: 0.7272\n",
      "Epoch 9/15\n",
      "2s - loss: 0.6615 - val_loss: 0.7241\n",
      "Epoch 10/15\n",
      "2s - loss: 0.6536 - val_loss: 0.7359\n",
      "Epoch 11/15\n",
      "2s - loss: 0.6474 - val_loss: 0.7256\n",
      "Epoch 12/15\n",
      "2s - loss: 0.6428 - val_loss: 0.7282\n",
      "Epoch 13/15\n",
      "2s - loss: 0.6396 - val_loss: 0.7318\n",
      "Epoch 14/15\n",
      "2s - loss: 0.6344 - val_loss: 0.7272\n",
      "Epoch 15/15\n",
      "2s - loss: 0.6310 - val_loss: 0.7298\n",
      "CPU times: user 1min 10s, sys: 5.63 s, total: 1min 16s\n",
      "Wall time: 35.2 s\n"
     ]
    }
   ],
   "source": [
    "%%time\n",
    "history = model.fit([user_id_train, item_id_train, item_meta_train], rating_train,\n",
    "                    batch_size=64, nb_epoch=15, validation_split=0.1,\n",
    "                    shuffle=True, verbose=2)"
   ]
  },
  {
   "cell_type": "code",
   "execution_count": 33,
   "metadata": {},
   "outputs": [
    {
     "name": "stdout",
     "output_type": "stream",
     "text": [
      "Final test Loss: 0.951\n",
      "Final test Loss: 0.716\n"
     ]
    }
   ],
   "source": [
    "test_preds = model.predict([user_id_test, item_id_test, item_meta_test])\n",
    "print(\"Final test Loss: %0.3f\" % mean_squared_error(test_preds, rating_test))\n",
    "print(\"Final test Loss: %0.3f\" % mean_absolute_error(test_preds, rating_test))"
   ]
  },
  {
   "cell_type": "markdown",
   "metadata": {},
   "source": [
    "### A recommendation function for a given user\n",
    "\n",
    "Once the model is trained, the system can be used to recommend a few items for a user, that he/she hasn't already seen:\n",
    "- we use the `model.predict` to compute the ratings a user would have given to all items\n",
    "- we build a reco function that sorts these items and exclude those the user has already seen"
   ]
  },
  {
   "cell_type": "code",
   "execution_count": 34,
   "metadata": {
    "scrolled": true
   },
   "outputs": [],
   "source": [
    "def recommend(user_id, top_n=10):\n",
    "    item_ids = range(1, max_item_id)\n",
    "    seen_movies = list(all_ratings[all_ratings[\"user_id\"]==user_id][\"item_id\"])\n",
    "    item_ids = list(filter(lambda x: x not in seen_movies, item_ids))\n",
    "    \n",
    "    print(\"user \"+str(user_id) +\" has seen \"+str(len(seen_movies)) + \" movies. \"+\n",
    "          \"Computing ratings for \"+str(len(item_ids))+ \" other movies\")\n",
    "    \n",
    "    item_ids = np.array(item_ids)\n",
    "    user = np.zeros_like(item_ids)\n",
    "    user[:]=user_id\n",
    "    items_meta = items[\"scaled_date\"][item_ids].values\n",
    "    \n",
    "    rating_preds = model.predict([user, item_ids, items_meta])\n",
    "    \n",
    "    item_ids = np.argsort(rating_preds[:,0])[::-1].tolist()\n",
    "    rec_items = item_ids[:top_n]\n",
    "    return [(items[\"name\"][movie], rating_preds[movie][0]) for movie in rec_items]"
   ]
  },
  {
   "cell_type": "code",
   "execution_count": 35,
   "metadata": {},
   "outputs": [
    {
     "name": "stdout",
     "output_type": "stream",
     "text": [
      "user 3 has seen 54 movies. Computing ratings for 1627 other movies\n"
     ]
    },
    {
     "data": {
      "text/plain": [
       "[('Hurricane Streets (1998)', 4.7211957),\n",
       " ('A Chef in Love (1996)', 4.2912731),\n",
       " ('Swept from the Sea (1997)', 4.290678),\n",
       " ('Ladybird Ladybird (1994)', 4.2575731),\n",
       " ('Mr. Jones (1993)', 4.1764994),\n",
       " ('Fair Game (1995)', 4.1245012),\n",
       " ('Jade (1995)', 4.078476),\n",
       " ('Spitfire Grill, The (1996)', 4.0770955),\n",
       " ('Land Before Time III: The Time of the Great Giving (1995) (V)', 4.071094),\n",
       " ('Harold and Maude (1971)', 4.0549202)]"
      ]
     },
     "execution_count": 35,
     "metadata": {},
     "output_type": "execute_result"
    }
   ],
   "source": [
    "recommend(3)"
   ]
  },
  {
   "cell_type": "markdown",
   "metadata": {},
   "source": [
    "### Home assignment: Predicting ratings as a classification problem\n",
    "\n",
    "In this dataset, the ratings all belong to a finite set of possible values:"
   ]
  },
  {
   "cell_type": "code",
   "execution_count": 36,
   "metadata": {},
   "outputs": [
    {
     "data": {
      "text/plain": [
       "array([1, 2, 3, 4, 5])"
      ]
     },
     "execution_count": 36,
     "metadata": {},
     "output_type": "execute_result"
    }
   ],
   "source": [
    "import numpy as np\n",
    "\n",
    "np.unique(rating_train)"
   ]
  },
  {
   "cell_type": "markdown",
   "metadata": {},
   "source": [
    "Maybe we can help the model by forcing it to predict those values by treating the problem as a multiclassification problem. The only required changes are:\n",
    "\n",
    "- setting the final layer to output class membership probabities using a softmax activation with 5 outputs;\n",
    "- optimize the categorical cross-entropy classification loss instead of a regression loss such as MSE or MAE."
   ]
  },
  {
   "cell_type": "code",
   "execution_count": null,
   "metadata": {
    "collapsed": true
   },
   "outputs": [],
   "source": []
  },
  {
   "cell_type": "code",
   "execution_count": 37,
   "metadata": {},
   "outputs": [
    {
     "name": "stdout",
     "output_type": "stream",
     "text": [
      "Random init MSE: 3.158\n",
      "Random init MAE: 1.440\n",
      "Train on 72000 samples, validate on 8000 samples\n",
      "Epoch 1/6\n",
      "2s - loss: 1.3652 - val_loss: 1.2871\n",
      "Epoch 2/6\n",
      "2s - loss: 1.2795 - val_loss: 1.2724\n",
      "Epoch 3/6\n",
      "2s - loss: 1.2620 - val_loss: 1.2688\n",
      "Epoch 4/6\n",
      "2s - loss: 1.2514 - val_loss: 1.2656\n",
      "Epoch 5/6\n",
      "2s - loss: 1.2438 - val_loss: 1.2601\n",
      "Epoch 6/6\n",
      "2s - loss: 1.2365 - val_loss: 1.2557\n",
      "Final test MSE: 1.149\n",
      "Final test MAE: 0.716\n"
     ]
    },
    {
     "data": {
      "image/png": "[encoded data removed]",
      "text/plain": [
       "<matplotlib.figure.Figure at 0x7faa651eb358>"
      ]
     },
     "metadata": {},
     "output_type": "display_data"
    }
   ],
   "source": [
    "# %load solutions/classification.py\n",
    "# For each sample we input the integer identifiers\n",
    "# of a single user and a single item\n",
    "user_id_input = Input(shape=[1], name='user')\n",
    "item_id_input = Input(shape=[1], name='item')\n",
    "\n",
    "embedding_size = 16\n",
    "dense_size = 128\n",
    "dropout_embedding = 0.5\n",
    "dropout_hidden = 0.2\n",
    "\n",
    "user_embedding = Embedding(output_dim=embedding_size, input_dim=max_user_id + 1,\n",
    "                           input_length=1, name='user_embedding')(user_id_input)\n",
    "item_embedding = Embedding(output_dim=embedding_size, input_dim=max_item_id + 1,\n",
    "                           input_length=1, name='item_embedding')(item_id_input)\n",
    "\n",
    "# reshape from shape: (batch_size, input_length, embedding_size)\n",
    "# to shape: (batch_size, input_length * embedding_size) which is\n",
    "# equal to shape: (batch_size, embedding_size)\n",
    "user_vecs = Flatten()(user_embedding)\n",
    "item_vecs = Flatten()(item_embedding)\n",
    "\n",
    "input_vecs = merge([user_vecs, item_vecs], mode='concat')\n",
    "input_vecs = Dropout(dropout_embedding)(input_vecs)\n",
    "\n",
    "x = Dense(dense_size, activation='relu')(input_vecs)\n",
    "x = Dropout(dropout_hidden)(x)\n",
    "x = Dense(dense_size, activation='relu')(x)\n",
    "y = Dense(output_dim=5, activation='softmax')(x)\n",
    "\n",
    "model = Model(input=[user_id_input, item_id_input], output=y)\n",
    "model.compile(optimizer='adam', loss='sparse_categorical_crossentropy')\n",
    "\n",
    "initial_train_preds = model.predict([user_id_train, item_id_train]).argmax(axis=1) + 1\n",
    "print(\"Random init MSE: %0.3f\" % mean_squared_error(initial_train_preds, rating_train))\n",
    "print(\"Random init MAE: %0.3f\" % mean_absolute_error(initial_train_preds, rating_train))\n",
    "\n",
    "\n",
    "history = model.fit([user_id_train, item_id_train], rating_train - 1,\n",
    "                    batch_size=64, nb_epoch=6, validation_split=0.1,\n",
    "                    shuffle=True, verbose=2)\n",
    "\n",
    "plt.plot(history.history['loss'], label='train')\n",
    "plt.plot(history.history['val_loss'], label='validation')\n",
    "plt.ylim(0, 2)\n",
    "plt.legend(loc='best')\n",
    "plt.title('loss');\n",
    "\n",
    "test_preds = model.predict([user_id_test, item_id_test]).argmax(axis=1) + 1\n",
    "print(\"Final test MSE: %0.3f\" % mean_squared_error(test_preds, rating_test))\n",
    "print(\"Final test MAE: %0.3f\" % mean_absolute_error(test_preds, rating_test))\n"
   ]
  },
  {
   "cell_type": "code",
   "execution_count": null,
   "metadata": {
    "collapsed": true
   },
   "outputs": [],
   "source": []
  }
 ],
 "metadata": {
  "kernelspec": {
   "display_name": "Python 3",
   "language": "python",
   "name": "python3"
  },
  "language_info": {
   "codemirror_mode": {
    "name": "ipython",
    "version": 3
   },
   "file_extension": ".py",
   "mimetype": "text/x-python",
   "name": "python",
   "nbconvert_exporter": "python",
   "pygments_lexer": "ipython3",
   "version": "3.6.2"
  }
 },
 "nbformat": 4,
 "nbformat_minor": 1
}
