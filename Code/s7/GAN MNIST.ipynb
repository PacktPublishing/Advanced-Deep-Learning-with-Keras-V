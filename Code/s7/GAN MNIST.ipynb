{
 "cells": [
  {
   "cell_type": "code",
   "execution_count": 1,
   "metadata": {},
   "outputs": [
    {
     "name": "stderr",
     "output_type": "stream",
     "text": [
      "Using TensorFlow backend.\n"
     ]
    }
   ],
   "source": [
    "import matplotlib as mpl\n",
    "\n",
    "# This line allows mpl to run with no DISPLAY defined\n",
    "mpl.use('Agg')\n",
    "\n",
    "import pandas as pd\n",
    "import numpy as np\n",
    "import os\n",
    "from keras.layers import Reshape, Flatten, LeakyReLU, Activation\n",
    "from keras.models import Sequential\n",
    "from keras.optimizers import Adam\n",
    "from keras.callbacks import TensorBoard\n",
    "from keras_adversarial.image_grid_callback import ImageGridCallback\n",
    "from keras_adversarial import AdversarialModel, simple_gan, gan_targets\n",
    "from keras_adversarial import normal_latent_sampling, AdversarialOptimizerSimultaneous\n",
    "from keras_adversarial.legacy import l1l2, Dense, fit\n",
    "import keras.backend as K\n",
    "from keras.datasets import mnist"
   ]
  },
  {
   "cell_type": "code",
   "execution_count": 2,
   "metadata": {
    "collapsed": true
   },
   "outputs": [],
   "source": [
    "def mnist_process(x):\n",
    "    x = x.astype(np.float32) / 255.0\n",
    "    return x\n",
    "\n",
    "\n",
    "def mnist_data():\n",
    "    (xtrain, ytrain), (xtest, ytest) = mnist.load_data()\n",
    "    return mnist_process(xtrain), mnist_process(xtest)"
   ]
  },
  {
   "cell_type": "code",
   "execution_count": 3,
   "metadata": {
    "collapsed": true
   },
   "outputs": [],
   "source": [
    "def model_generator(latent_dim, input_shape, hidden_dim=1024, reg=lambda: l1l2(1e-5, 1e-5)):\n",
    "    return Sequential([\n",
    "        Dense(int(hidden_dim / 4), name=\"generator_h1\", input_dim=latent_dim, W_regularizer=reg()),\n",
    "        LeakyReLU(0.2),\n",
    "        Dense(int(hidden_dim / 2), name=\"generator_h2\", W_regularizer=reg()),\n",
    "        LeakyReLU(0.2),\n",
    "        Dense(hidden_dim, name=\"generator_h3\", W_regularizer=reg()),\n",
    "        LeakyReLU(0.2),\n",
    "        Dense(np.prod(input_shape), name=\"generator_x_flat\", W_regularizer=reg()),\n",
    "        Activation('sigmoid'),\n",
    "        Reshape(input_shape, name=\"generator_x\")],\n",
    "        name=\"generator\")"
   ]
  },
  {
   "cell_type": "code",
   "execution_count": 4,
   "metadata": {
    "collapsed": true
   },
   "outputs": [],
   "source": [
    "def model_discriminator(input_shape, hidden_dim=1024, reg=lambda: l1l2(1e-5, 1e-5), output_activation=\"sigmoid\"):\n",
    "    return Sequential([\n",
    "        Flatten(name=\"discriminator_flatten\", input_shape=input_shape),\n",
    "        Dense(hidden_dim, name=\"discriminator_h1\", W_regularizer=reg()),\n",
    "        LeakyReLU(0.2),\n",
    "        Dense(int(hidden_dim / 2), name=\"discriminator_h2\", W_regularizer=reg()),\n",
    "        LeakyReLU(0.2),\n",
    "        Dense(int(hidden_dim / 4), name=\"discriminator_h3\", W_regularizer=reg()),\n",
    "        LeakyReLU(0.2),\n",
    "        Dense(1, name=\"discriminator_y\", W_regularizer=reg()),\n",
    "        Activation(output_activation)],\n",
    "        name=\"discriminator\")"
   ]
  },
  {
   "cell_type": "code",
   "execution_count": 5,
   "metadata": {
    "collapsed": true
   },
   "outputs": [],
   "source": [
    "# z \\in R^100\n",
    "latent_dim = 100\n",
    "\n",
    "# x \\in R^{28x28}\n",
    "input_shape = (28, 28)"
   ]
  },
  {
   "cell_type": "code",
   "execution_count": 6,
   "metadata": {},
   "outputs": [
    {
     "name": "stdout",
     "output_type": "stream",
     "text": [
      "_________________________________________________________________\n",
      "Layer (type)                 Output Shape              Param #   \n",
      "=================================================================\n",
      "generator_h1 (Dense)         (None, 256)               25856     \n",
      "_________________________________________________________________\n",
      "leaky_re_lu_1 (LeakyReLU)    (None, 256)               0         \n",
      "_________________________________________________________________\n",
      "generator_h2 (Dense)         (None, 512)               131584    \n",
      "_________________________________________________________________\n",
      "leaky_re_lu_2 (LeakyReLU)    (None, 512)               0         \n",
      "_________________________________________________________________\n",
      "generator_h3 (Dense)         (None, 1024)              525312    \n",
      "_________________________________________________________________\n",
      "leaky_re_lu_3 (LeakyReLU)    (None, 1024)              0         \n",
      "_________________________________________________________________\n",
      "generator_x_flat (Dense)     (None, 784)               803600    \n",
      "_________________________________________________________________\n",
      "activation_1 (Activation)    (None, 784)               0         \n",
      "_________________________________________________________________\n",
      "generator_x (Reshape)        (None, 28, 28)            0         \n",
      "=================================================================\n",
      "Total params: 1,486,352.0\n",
      "Trainable params: 1,486,352.0\n",
      "Non-trainable params: 0.0\n",
      "_________________________________________________________________\n"
     ]
    }
   ],
   "source": [
    "# generator (z -> x)\n",
    "generator = model_generator(latent_dim, input_shape)\n",
    "generator.summary()"
   ]
  },
  {
   "cell_type": "code",
   "execution_count": 7,
   "metadata": {},
   "outputs": [
    {
     "name": "stdout",
     "output_type": "stream",
     "text": [
      "_________________________________________________________________\n",
      "Layer (type)                 Output Shape              Param #   \n",
      "=================================================================\n",
      "discriminator_flatten (Flatt (None, 784)               0         \n",
      "_________________________________________________________________\n",
      "discriminator_h1 (Dense)     (None, 1024)              803840    \n",
      "_________________________________________________________________\n",
      "leaky_re_lu_4 (LeakyReLU)    (None, 1024)              0         \n",
      "_________________________________________________________________\n",
      "discriminator_h2 (Dense)     (None, 512)               524800    \n",
      "_________________________________________________________________\n",
      "leaky_re_lu_5 (LeakyReLU)    (None, 512)               0         \n",
      "_________________________________________________________________\n",
      "discriminator_h3 (Dense)     (None, 256)               131328    \n",
      "_________________________________________________________________\n",
      "leaky_re_lu_6 (LeakyReLU)    (None, 256)               0         \n",
      "_________________________________________________________________\n",
      "discriminator_y (Dense)      (None, 1)                 257       \n",
      "_________________________________________________________________\n",
      "activation_2 (Activation)    (None, 1)                 0         \n",
      "=================================================================\n",
      "Total params: 1,460,225.0\n",
      "Trainable params: 1,460,225.0\n",
      "Non-trainable params: 0.0\n",
      "_________________________________________________________________\n"
     ]
    }
   ],
   "source": [
    "# discriminator (x -> y)\n",
    "discriminator = model_discriminator(input_shape)\n",
    "discriminator.summary()"
   ]
  },
  {
   "cell_type": "code",
   "execution_count": 14,
   "metadata": {
    "collapsed": true
   },
   "outputs": [],
   "source": [
    "csvpath = os.path.join(\"output/gan\", \"history.csv\")\n",
    "if os.path.exists(csvpath):\n",
    "    print(\"Already exists: {}\".format(csvpath))"
   ]
  },
  {
   "cell_type": "code",
   "execution_count": 15,
   "metadata": {},
   "outputs": [
    {
     "name": "stdout",
     "output_type": "stream",
     "text": [
      "Training: output/gan/history.csv\n"
     ]
    }
   ],
   "source": [
    "print(\"Training: {}\".format(csvpath))"
   ]
  },
  {
   "cell_type": "code",
   "execution_count": 16,
   "metadata": {},
   "outputs": [
    {
     "name": "stdout",
     "output_type": "stream",
     "text": [
      "____________________________________________________________________________________________________\n",
      "Layer (type)                     Output Shape          Param #     Connected to                     \n",
      "====================================================================================================\n",
      "discriminator_flatten_input (Inp (None, 28, 28)        0                                            \n",
      "____________________________________________________________________________________________________\n",
      "lambda_1 (Lambda)                (None, 100)           0                                            \n",
      "____________________________________________________________________________________________________\n",
      "gan (Model)                      [(None, 1), (None, 1) 2946577                                      \n",
      "____________________________________________________________________________________________________\n",
      "yfake (Activation)               (None, 1)             0                                            \n",
      "____________________________________________________________________________________________________\n",
      "yreal (Activation)               (None, 1)             0                                            \n",
      "====================================================================================================\n",
      "Total params: 2,946,577.0\n",
      "Trainable params: 2,946,577.0\n",
      "Non-trainable params: 0.0\n",
      "____________________________________________________________________________________________________\n"
     ]
    }
   ],
   "source": [
    "# gan (x - > yfake, yreal), z generated on GPU\n",
    "gan = simple_gan(generator, discriminator, normal_latent_sampling((latent_dim,)))\n",
    "gan.summary()"
   ]
  },
  {
   "cell_type": "code",
   "execution_count": 19,
   "metadata": {
    "collapsed": true
   },
   "outputs": [],
   "source": [
    "# build adversarial model\n",
    "model = AdversarialModel(base_model=gan,\n",
    "                         player_params=[generator.trainable_weights, discriminator.trainable_weights],\n",
    "                         player_names=[\"generator\", \"discriminator\"])"
   ]
  },
  {
   "cell_type": "code",
   "execution_count": 26,
   "metadata": {
    "collapsed": true
   },
   "outputs": [],
   "source": [
    "adversarial_optimizer = AdversarialOptimizerSimultaneous()\n",
    "opt_g = Adam(1e-4, decay=1e-4)\n",
    "opt_d = Adam(1e-3, decay=1e-4)\n",
    "loss = 'binary_crossentropy' # binary classification task: REAL or FAKE. Therefore binary cross entropy loss.\n",
    "\n",
    "model.adversarial_compile(adversarial_optimizer=adversarial_optimizer,\n",
    "                          player_optimizers=[opt_g, opt_d],\n",
    "                          loss=loss)"
   ]
  },
  {
   "cell_type": "code",
   "execution_count": 28,
   "metadata": {
    "collapsed": true
   },
   "outputs": [],
   "source": [
    "# create callback to generate images\n",
    "zsamples = np.random.normal(size=(10 * 10, latent_dim))\n",
    "\n",
    "def generator_sampler():\n",
    "    return generator.predict(zsamples).reshape((10, 10, 28, 28))\n",
    "\n",
    "generator_cb = ImageGridCallback(os.path.join(\"output/gan\", \"epoch-{:03d}.png\"), generator_sampler)"
   ]
  },
  {
   "cell_type": "code",
   "execution_count": 34,
   "metadata": {},
   "outputs": [
    {
     "name": "stdout",
     "output_type": "stream",
     "text": [
      "Train on 60000 samples, validate on 10000 samples\n",
      "Epoch 1/1\n",
      "60000/60000 [==============================] - 176s - loss: 18.7926 - generator_loss: 16.3468 - generator_yfake_loss: 3.6518 - generator_yreal_loss: 10.4823 - discriminator_loss: 2.4459 - discriminator_yfake_loss: 0.0850 - discriminator_yreal_loss: 0.1481 - val_loss: 19.5150 - val_generator_loss: 17.0469 - val_generator_yfake_loss: 2.7409 - val_generator_yreal_loss: 12.1702 - val_discriminator_loss: 2.4681 - val_discriminator_yfake_loss: 0.1996 - val_discriminator_yreal_loss: 0.1327\n"
     ]
    }
   ],
   "source": [
    "# train model\n",
    "# GPU version: https://raw.githubusercontent.com/bstriner/keras-adversarial/master/examples/example_gan.py\n",
    "# of course one epoch is too small. Put at least 100 epochs and if you run on CPU, be patient!\n",
    "# also we have a mode collapse with this simple model:\n",
    "# The generator understands that outputting 1 is the best way to fake the discriminator.\n",
    "# So I guess most of the trainings do not work well because the generated numbers will be almost always 1.\n",
    "nb_epoch = 1 # run all this code on a GPU and it will be much faster! I have 117 seconds on my CPU and 22 seconds on my GPU.\n",
    "xtrain, xtest = mnist_data()\n",
    "y = gan_targets(xtrain.shape[0])\n",
    "ytest = gan_targets(xtest.shape[0])\n",
    "callbacks = [generator_cb]\n",
    "if K.backend() == \"tensorflow\":\n",
    "    callbacks.append(\n",
    "        TensorBoard(log_dir=os.path.join(\"output/gan\", 'logs'), histogram_freq=0, write_graph=True, write_images=True))\n",
    "history = fit(model, x=xtrain, y=y, validation_data=(xtest, ytest), callbacks=callbacks, nb_epoch=nb_epoch,\n",
    "              batch_size=32)"
   ]
  },
  {
   "cell_type": "code",
   "execution_count": 37,
   "metadata": {
    "collapsed": true
   },
   "outputs": [],
   "source": [
    "# save history to CSV\n",
    "df = pd.DataFrame(history.history)\n",
    "df.to_csv(csvpath)\n",
    "\n",
    "# save models\n",
    "generator.save(os.path.join(\"output/gan\", \"generator.h5\"))\n",
    "discriminator.save(os.path.join(\"output/gan\", \"discriminator.h5\"))\n",
    "\n",
    "# h5 files can be used to generate pictures later. Only the generator is important here.\n",
    "# We can discard the discriminator because our main purpose is to generate nice pictures.\n",
    "\n",
    "# Code to load a model from h5 files:\n",
    "# from keras.models import load_model\n",
    "# model = load_model('model.h5')"
   ]
  },
  {
   "cell_type": "code",
   "execution_count": 52,
   "metadata": {
    "scrolled": true
   },
   "outputs": [
    {
     "data": {
      "text/plain": [
       "<matplotlib.image.AxesImage at 0x12118ca58>"
      ]
     },
     "execution_count": 52,
     "metadata": {},
     "output_type": "execute_result"
    },
    {
     "data": {
      "image/png": "[encoded data removed]",
      "text/plain": [
       "<matplotlib.figure.Figure at 0x12034c588>"
      ]
     },
     "metadata": {},
     "output_type": "display_data"
    }
   ],
   "source": [
    "%matplotlib inline\n",
    "import matplotlib.pyplot as plt\n",
    "fake_image_from_generator = generator_sampler()[0][2] # generator_sampler() returns 10x10 images. I chose one randomly (at index 0,2)\n",
    "plt.imshow(fake_image_from_generator, cmap='gray') # looks like a 1!"
   ]
  }
 ],
 "metadata": {
  "kernelspec": {
   "display_name": "Python 3",
   "language": "python",
   "name": "python3"
  },
  "language_info": {
   "codemirror_mode": {
    "name": "ipython",
    "version": 3
   },
   "file_extension": ".py",
   "mimetype": "text/x-python",
   "name": "python",
   "nbconvert_exporter": "python",
   "pygments_lexer": "ipython3",
   "version": "3.6.2"
  }
 },
 "nbformat": 4,
 "nbformat_minor": 2
}
